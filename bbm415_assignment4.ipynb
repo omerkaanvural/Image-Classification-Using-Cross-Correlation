{
  "nbformat": 4,
  "nbformat_minor": 0,
  "metadata": {
    "colab": {
      "provenance": []
    },
    "kernelspec": {
      "name": "python3",
      "display_name": "Python 3"
    },
    "language_info": {
      "name": "python"
    },
    "accelerator": "GPU",
    "gpuClass": "standard"
  },
  "cells": [
    {
      "cell_type": "markdown",
      "source": [
        "### **Image Classification Using Cross Correlation**"
      ],
      "metadata": {
        "id": "XZEgMzk16Xcz"
      }
    },
    {
      "cell_type": "code",
      "execution_count": 1,
      "metadata": {
        "id": "qUjAdiwE9bar"
      },
      "outputs": [],
      "source": [
        "import numpy as np\n",
        "import cv2"
      ]
    },
    {
      "cell_type": "code",
      "source": [
        "from google.colab import drive\n",
        "drive.mount('/content/drive')"
      ],
      "metadata": {
        "colab": {
          "base_uri": "https://localhost:8080/"
        },
        "id": "RBsTBOEz-EyD",
        "outputId": "37c081b5-5739-46c4-a825-2eb59aba34a1"
      },
      "execution_count": 2,
      "outputs": [
        {
          "output_type": "stream",
          "name": "stdout",
          "text": [
            "Mounted at /content/drive\n"
          ]
        }
      ]
    },
    {
      "cell_type": "code",
      "source": [
        "from google.colab.patches import cv2_imshow"
      ],
      "metadata": {
        "id": "TaIvvw_bC31x"
      },
      "execution_count": 3,
      "outputs": []
    },
    {
      "cell_type": "code",
      "source": [
        "target_path = 'drive/MyDrive/assignment4_dataset/target'\n",
        "template_path = 'drive/MyDrive/assignment4_dataset/template'"
      ],
      "metadata": {
        "id": "efAPcm1NA_z7"
      },
      "execution_count": 4,
      "outputs": []
    },
    {
      "cell_type": "code",
      "source": [
        "# looking for the data\n",
        "base_path_for_samples = target_path + '/Q/'"
      ],
      "metadata": {
        "id": "iNZqlFbKD4Ak"
      },
      "execution_count": 5,
      "outputs": []
    },
    {
      "cell_type": "code",
      "source": [
        "import os\n",
        "\n",
        "q_images = os.listdir(base_path_for_samples)\n",
        "q_template = template_path + '/Q.png'"
      ],
      "metadata": {
        "id": "e0qYq102BkAm"
      },
      "execution_count": 6,
      "outputs": []
    },
    {
      "cell_type": "code",
      "source": [
        "print(q_images)"
      ],
      "metadata": {
        "colab": {
          "base_uri": "https://localhost:8080/"
        },
        "id": "NXOvGaG8DdIx",
        "outputId": "6297b454-c737-4008-cfcb-fa4bc2e8c112"
      },
      "execution_count": 7,
      "outputs": [
        {
          "output_type": "stream",
          "name": "stdout",
          "text": [
            "['Q501.jpg', 'Q2701.jpg', 'Q1201.jpg', 'Q1801.jpg', 'Q2301.jpg', 'Q1001.jpg', 'Q2501.jpg', 'Q401.jpg', 'Q1401.jpg', 'Q201.jpg', 'Q1701.jpg', 'Q2201.jpg', 'Q1501.jpg', 'Q1601.jpg', 'Q901.jpg', 'Q801.jpg', 'Q701.jpg', 'Q2001.jpg', 'Q2601.jpg', 'Q301.jpg', 'Q1901.jpg', 'Q1.jpg', 'Q2401.jpg', 'Q101.jpg', 'Q2801.jpg', 'Q2901.jpg', 'Q1101.jpg', 'Q2101.jpg', 'Q1301.jpg', 'Q601.jpg']\n"
          ]
        }
      ]
    },
    {
      "cell_type": "code",
      "source": [
        "q_temp_img = cv2.imread(q_template, cv2.IMREAD_GRAYSCALE)\n",
        "q_sample_img = cv2.imread(base_path_for_samples + str(q_images[0]), cv2.IMREAD_GRAYSCALE)\n",
        "print(base_path_for_samples + str(q_images[0]))"
      ],
      "metadata": {
        "colab": {
          "base_uri": "https://localhost:8080/"
        },
        "id": "S2JNi_Bp-kBa",
        "outputId": "be43c044-b67f-4e6f-e396-a4e921cc07d3"
      },
      "execution_count": 8,
      "outputs": [
        {
          "output_type": "stream",
          "name": "stdout",
          "text": [
            "drive/MyDrive/assignment4_dataset/target/Q/Q501.jpg\n"
          ]
        }
      ]
    },
    {
      "cell_type": "code",
      "source": [
        "print(q_temp_img.shape, q_sample_img.shape)"
      ],
      "metadata": {
        "colab": {
          "base_uri": "https://localhost:8080/"
        },
        "id": "OGZH7SxaP8F6",
        "outputId": "2d18cd2d-9b14-4376-8cc5-5bd471d44d95"
      },
      "execution_count": 9,
      "outputs": [
        {
          "output_type": "stream",
          "name": "stdout",
          "text": [
            "(146, 185) (200, 200)\n"
          ]
        }
      ]
    },
    {
      "cell_type": "code",
      "source": [
        "# checking are all templates' shapes same\n",
        "for i in range(len(q_images)):\n",
        "  print(cv2.imread(base_path_for_samples + str(q_images[i])).shape)"
      ],
      "metadata": {
        "colab": {
          "base_uri": "https://localhost:8080/"
        },
        "id": "iBJ8u6f0Piq1",
        "outputId": "e4b61dcd-d91b-4589-bcef-edb7b9dffa6c"
      },
      "execution_count": 10,
      "outputs": [
        {
          "output_type": "stream",
          "name": "stdout",
          "text": [
            "(200, 200, 3)\n",
            "(200, 200, 3)\n",
            "(200, 200, 3)\n",
            "(200, 200, 3)\n",
            "(200, 200, 3)\n",
            "(200, 200, 3)\n",
            "(200, 200, 3)\n",
            "(200, 200, 3)\n",
            "(200, 200, 3)\n",
            "(200, 200, 3)\n",
            "(200, 200, 3)\n",
            "(200, 200, 3)\n",
            "(200, 200, 3)\n",
            "(200, 200, 3)\n",
            "(200, 200, 3)\n",
            "(200, 200, 3)\n",
            "(200, 200, 3)\n",
            "(200, 200, 3)\n",
            "(200, 200, 3)\n",
            "(200, 200, 3)\n",
            "(200, 200, 3)\n",
            "(200, 200, 3)\n",
            "(200, 200, 3)\n",
            "(200, 200, 3)\n",
            "(200, 200, 3)\n",
            "(200, 200, 3)\n",
            "(200, 200, 3)\n",
            "(200, 200, 3)\n",
            "(200, 200, 3)\n",
            "(200, 200, 3)\n"
          ]
        }
      ]
    },
    {
      "cell_type": "code",
      "source": [
        "cv2_imshow(q_temp_img)"
      ],
      "metadata": {
        "colab": {
          "base_uri": "https://localhost:8080/",
          "height": 163
        },
        "id": "8I9-1sqDCt8X",
        "outputId": "65042f97-7544-448d-8122-d75c0213baee"
      },
      "execution_count": 11,
      "outputs": [
        {
          "output_type": "display_data",
          "data": {
            "text/plain": [
              "<PIL.Image.Image image mode=L size=185x146 at 0x7FEDA50C0070>"
            ],
            "image/png": "[encoded data removed]"
          },
          "metadata": {}
        }
      ]
    },
    {
      "cell_type": "code",
      "source": [
        "cv2_imshow(q_sample_img)"
      ],
      "metadata": {
        "colab": {
          "base_uri": "https://localhost:8080/",
          "height": 217
        },
        "id": "z0l3ZkyhEOLm",
        "outputId": "e74322be-0dea-4a2c-a93d-3bb8472328ca"
      },
      "execution_count": 12,
      "outputs": [
        {
          "output_type": "display_data",
          "data": {
            "text/plain": [
              "<PIL.Image.Image image mode=L size=200x200 at 0x7FED8D9EE400>"
            ],
            "image/png": "[encoded data removed]"
          },
          "metadata": {}
        }
      ]
    },
    {
      "cell_type": "code",
      "source": [
        "def normalised_cross_correlation(sample, template):\n",
        "    # Normalised Cross Correlation Equation\n",
        "    cor = np.sum(sample * template)\n",
        "    nor = np.sqrt((np.sum(sample**2))) * np.sqrt(np.sum(template**2))\n",
        "    return cor"
      ],
      "metadata": {
        "id": "u30Qf1UHIkcg"
      },
      "execution_count": 64,
      "outputs": []
    },
    {
      "cell_type": "markdown",
      "source": [
        "Looking TEMP on SAMPLE\n",
        "(sample > template)\n"
      ],
      "metadata": {
        "id": "0bc-eG4nk1nL"
      }
    },
    {
      "cell_type": "code",
      "source": [
        "def template_matching(template, sample):\n",
        "    \"\"\"\n",
        "    Finding best locations by overlapping images to get best ncc score\n",
        "    Returns:\n",
        "      max matching score and location of smaller image on bigger one\n",
        "    \"\"\"\n",
        "    \n",
        "    (max_Y, max_X) = (0, 0)\n",
        "    max_val = 0\n",
        "\n",
        "    if np.max(sample) <= 1 or np.max(template):\n",
        "      sample = cv2.normalize(sample, None, alpha = 0, beta = 255, norm_type = cv2.NORM_MINMAX, dtype = cv2.CV_32F)\n",
        "      template = cv2.normalize(template, None, alpha = 0, beta = 255, norm_type = cv2.NORM_MINMAX, dtype = cv2.CV_32F)\n",
        "\n",
        "    # Set image, target and result value matrix\n",
        "    template = np.array(template, dtype = \"int\")\n",
        "    sample = np.array(sample, dtype = \"int\")\n",
        "\n",
        "    height, width = template.shape\n",
        "    sample_height, sample_width = sample.shape\n",
        "\n",
        "    ncc_value = np.zeros((abs(sample_height - height) + 1, abs(sample_width - width) + 1))\n",
        "    \n",
        "    for y in range(0, 54):\n",
        "        for x in range(0, 14):\n",
        "            temporary = sample[y: height + y, x: width + x]\n",
        "            # calculate ncc value\n",
        "\n",
        "            ncc_value[y, x] = normalised_cross_correlation(template, temporary)\n",
        "\n",
        "            # find the most match area\n",
        "            if ncc_value[y, x] > max_val:\n",
        "                max_val = ncc_value[y,x]\n",
        "                (max_Y, max_X) = (y, x)\n",
        "\n",
        "    return (max_val, max_X, max_Y)"
      ],
      "metadata": {
        "id": "OjmxOkq3NyY5"
      },
      "execution_count": 14,
      "outputs": []
    },
    {
      "cell_type": "code",
      "source": [
        "print(template_matching(q_temp_img, q_sample_img))"
      ],
      "metadata": {
        "id": "oFhgl-EePEVB",
        "colab": {
          "base_uri": "https://localhost:8080/"
        },
        "outputId": "a6f4a0f2-9a57-495e-85c8-529e64095dff"
      },
      "execution_count": 15,
      "outputs": [
        {
          "output_type": "stream",
          "name": "stdout",
          "text": [
            "(0.903276331914032, 2, 53)\n"
          ]
        }
      ]
    },
    {
      "cell_type": "code",
      "source": [
        "from collections import defaultdict"
      ],
      "metadata": {
        "id": "48hXRl2Q6L8p"
      },
      "execution_count": 16,
      "outputs": []
    },
    {
      "cell_type": "code",
      "source": [
        "import string\n",
        "alphabet = list(string.ascii_uppercase)"
      ],
      "metadata": {
        "id": "S-B5VrA2pTRw"
      },
      "execution_count": 17,
      "outputs": []
    },
    {
      "cell_type": "code",
      "source": [
        "def get_samples(samples_path):\n",
        "  '''\n",
        "  Retrieves references of sample images\n",
        "  Returns:\n",
        "    paths all of the images\n",
        "  '''\n",
        "\n",
        "  samples = defaultdict(list)\n",
        "  for letter in alphabet:\n",
        "    image_files = os.listdir(samples_path + f'/{letter}')\n",
        "\n",
        "    for image in image_files:\n",
        "      image_with_path = samples_path + f'/{letter}/' + image\n",
        "      samples[letter].append(image_with_path)\n",
        "\n",
        "  return samples"
      ],
      "metadata": {
        "id": "4TUf1cqH55uA"
      },
      "execution_count": 18,
      "outputs": []
    },
    {
      "cell_type": "code",
      "source": [
        "target_path = 'drive/MyDrive/assignment4_dataset/target'\n",
        "samples = get_samples(target_path)\n",
        "samples"
      ],
      "metadata": {
        "colab": {
          "base_uri": "https://localhost:8080/"
        },
        "id": "Hdbph5VZGvFx",
        "outputId": "36a446ab-113c-4737-e422-c1eb76d3d68d"
      },
      "execution_count": 19,
      "outputs": [
        {
          "output_type": "execute_result",
          "data": {
            "text/plain": [
              "defaultdict(list,\n",
              "            {'A': ['drive/MyDrive/assignment4_dataset/target/A/A2101.jpg',\n",
              "              'drive/MyDrive/assignment4_dataset/target/A/A1.jpg',\n",
              "              'drive/MyDrive/assignment4_dataset/target/A/A401.jpg',\n",
              "              'drive/MyDrive/assignment4_dataset/target/A/A901.jpg',\n",
              "              'drive/MyDrive/assignment4_dataset/target/A/A1101.jpg',\n",
              "              'drive/MyDrive/assignment4_dataset/target/A/A201.jpg',\n",
              "              'drive/MyDrive/assignment4_dataset/target/A/A101.jpg',\n",
              "              'drive/MyDrive/assignment4_dataset/target/A/A1001.jpg',\n",
              "              'drive/MyDrive/assignment4_dataset/target/A/A501.jpg',\n",
              "              'drive/MyDrive/assignment4_dataset/target/A/A1801.jpg',\n",
              "              'drive/MyDrive/assignment4_dataset/target/A/A1701.jpg',\n",
              "              'drive/MyDrive/assignment4_dataset/target/A/A2901.jpg',\n",
              "              'drive/MyDrive/assignment4_dataset/target/A/A2201.jpg',\n",
              "              'drive/MyDrive/assignment4_dataset/target/A/A1601.jpg',\n",
              "              'drive/MyDrive/assignment4_dataset/target/A/A2401.jpg',\n",
              "              'drive/MyDrive/assignment4_dataset/target/A/A801.jpg',\n",
              "              'drive/MyDrive/assignment4_dataset/target/A/A1401.jpg',\n",
              "              'drive/MyDrive/assignment4_dataset/target/A/A2001.jpg',\n",
              "              'drive/MyDrive/assignment4_dataset/target/A/A1301.jpg',\n",
              "              'drive/MyDrive/assignment4_dataset/target/A/A2701.jpg',\n",
              "              'drive/MyDrive/assignment4_dataset/target/A/A301.jpg',\n",
              "              'drive/MyDrive/assignment4_dataset/target/A/A2501.jpg',\n",
              "              'drive/MyDrive/assignment4_dataset/target/A/A1201.jpg',\n",
              "              'drive/MyDrive/assignment4_dataset/target/A/A2301.jpg',\n",
              "              'drive/MyDrive/assignment4_dataset/target/A/A2601.jpg',\n",
              "              'drive/MyDrive/assignment4_dataset/target/A/A1901.jpg',\n",
              "              'drive/MyDrive/assignment4_dataset/target/A/A2801.jpg',\n",
              "              'drive/MyDrive/assignment4_dataset/target/A/A701.jpg',\n",
              "              'drive/MyDrive/assignment4_dataset/target/A/A1501.jpg',\n",
              "              'drive/MyDrive/assignment4_dataset/target/A/A601.jpg'],\n",
              "             'B': ['drive/MyDrive/assignment4_dataset/target/B/B1601.jpg',\n",
              "              'drive/MyDrive/assignment4_dataset/target/B/B401.jpg',\n",
              "              'drive/MyDrive/assignment4_dataset/target/B/B201.jpg',\n",
              "              'drive/MyDrive/assignment4_dataset/target/B/B2101.jpg',\n",
              "              'drive/MyDrive/assignment4_dataset/target/B/B701.jpg',\n",
              "              'drive/MyDrive/assignment4_dataset/target/B/B1.jpg',\n",
              "              'drive/MyDrive/assignment4_dataset/target/B/B2801.jpg',\n",
              "              'drive/MyDrive/assignment4_dataset/target/B/B1701.jpg',\n",
              "              'drive/MyDrive/assignment4_dataset/target/B/B1201.jpg',\n",
              "              'drive/MyDrive/assignment4_dataset/target/B/B601.jpg',\n",
              "              'drive/MyDrive/assignment4_dataset/target/B/B2401.jpg',\n",
              "              'drive/MyDrive/assignment4_dataset/target/B/B2301.jpg',\n",
              "              'drive/MyDrive/assignment4_dataset/target/B/B2201.jpg',\n",
              "              'drive/MyDrive/assignment4_dataset/target/B/B2901.jpg',\n",
              "              'drive/MyDrive/assignment4_dataset/target/B/B1901.jpg',\n",
              "              'drive/MyDrive/assignment4_dataset/target/B/B901.jpg',\n",
              "              'drive/MyDrive/assignment4_dataset/target/B/B2601.jpg',\n",
              "              'drive/MyDrive/assignment4_dataset/target/B/B1001.jpg',\n",
              "              'drive/MyDrive/assignment4_dataset/target/B/B501.jpg',\n",
              "              'drive/MyDrive/assignment4_dataset/target/B/B1301.jpg',\n",
              "              'drive/MyDrive/assignment4_dataset/target/B/B801.jpg',\n",
              "              'drive/MyDrive/assignment4_dataset/target/B/B101.jpg',\n",
              "              'drive/MyDrive/assignment4_dataset/target/B/B1401.jpg',\n",
              "              'drive/MyDrive/assignment4_dataset/target/B/B301.jpg',\n",
              "              'drive/MyDrive/assignment4_dataset/target/B/B2701.jpg',\n",
              "              'drive/MyDrive/assignment4_dataset/target/B/B1101.jpg',\n",
              "              'drive/MyDrive/assignment4_dataset/target/B/B1801.jpg',\n",
              "              'drive/MyDrive/assignment4_dataset/target/B/B1501.jpg',\n",
              "              'drive/MyDrive/assignment4_dataset/target/B/B2501.jpg',\n",
              "              'drive/MyDrive/assignment4_dataset/target/B/B2001.jpg'],\n",
              "             'C': ['drive/MyDrive/assignment4_dataset/target/C/C501.jpg',\n",
              "              'drive/MyDrive/assignment4_dataset/target/C/C2501.jpg',\n",
              "              'drive/MyDrive/assignment4_dataset/target/C/C1101.jpg',\n",
              "              'drive/MyDrive/assignment4_dataset/target/C/C1401.jpg',\n",
              "              'drive/MyDrive/assignment4_dataset/target/C/C2901.jpg',\n",
              "              'drive/MyDrive/assignment4_dataset/target/C/C201.jpg',\n",
              "              'drive/MyDrive/assignment4_dataset/target/C/C1201.jpg',\n",
              "              'drive/MyDrive/assignment4_dataset/target/C/C401.jpg',\n",
              "              'drive/MyDrive/assignment4_dataset/target/C/C1801.jpg',\n",
              "              'drive/MyDrive/assignment4_dataset/target/C/C301.jpg',\n",
              "              'drive/MyDrive/assignment4_dataset/target/C/C101.jpg',\n",
              "              'drive/MyDrive/assignment4_dataset/target/C/C2201.jpg',\n",
              "              'drive/MyDrive/assignment4_dataset/target/C/C701.jpg',\n",
              "              'drive/MyDrive/assignment4_dataset/target/C/C1601.jpg',\n",
              "              'drive/MyDrive/assignment4_dataset/target/C/C1701.jpg',\n",
              "              'drive/MyDrive/assignment4_dataset/target/C/C1301.jpg',\n",
              "              'drive/MyDrive/assignment4_dataset/target/C/C1901.jpg',\n",
              "              'drive/MyDrive/assignment4_dataset/target/C/C2601.jpg',\n",
              "              'drive/MyDrive/assignment4_dataset/target/C/C2101.jpg',\n",
              "              'drive/MyDrive/assignment4_dataset/target/C/C901.jpg',\n",
              "              'drive/MyDrive/assignment4_dataset/target/C/C601.jpg',\n",
              "              'drive/MyDrive/assignment4_dataset/target/C/C2801.jpg',\n",
              "              'drive/MyDrive/assignment4_dataset/target/C/C1.jpg',\n",
              "              'drive/MyDrive/assignment4_dataset/target/C/C2301.jpg',\n",
              "              'drive/MyDrive/assignment4_dataset/target/C/C2701.jpg',\n",
              "              'drive/MyDrive/assignment4_dataset/target/C/C1501.jpg',\n",
              "              'drive/MyDrive/assignment4_dataset/target/C/C2401.jpg',\n",
              "              'drive/MyDrive/assignment4_dataset/target/C/C801.jpg',\n",
              "              'drive/MyDrive/assignment4_dataset/target/C/C2001.jpg',\n",
              "              'drive/MyDrive/assignment4_dataset/target/C/C1001.jpg'],\n",
              "             'D': ['drive/MyDrive/assignment4_dataset/target/D/D1501.jpg',\n",
              "              'drive/MyDrive/assignment4_dataset/target/D/D2101.jpg',\n",
              "              'drive/MyDrive/assignment4_dataset/target/D/D801.jpg',\n",
              "              'drive/MyDrive/assignment4_dataset/target/D/D301.jpg',\n",
              "              'drive/MyDrive/assignment4_dataset/target/D/D501.jpg',\n",
              "              'drive/MyDrive/assignment4_dataset/target/D/D1101.jpg',\n",
              "              'drive/MyDrive/assignment4_dataset/target/D/D2401.jpg',\n",
              "              'drive/MyDrive/assignment4_dataset/target/D/D1001.jpg',\n",
              "              'drive/MyDrive/assignment4_dataset/target/D/D1401.jpg',\n",
              "              'drive/MyDrive/assignment4_dataset/target/D/D901.jpg',\n",
              "              'drive/MyDrive/assignment4_dataset/target/D/D2501.jpg',\n",
              "              'drive/MyDrive/assignment4_dataset/target/D/D701.jpg',\n",
              "              'drive/MyDrive/assignment4_dataset/target/D/D2001.jpg',\n",
              "              'drive/MyDrive/assignment4_dataset/target/D/D1201.jpg',\n",
              "              'drive/MyDrive/assignment4_dataset/target/D/D1.jpg',\n",
              "              'drive/MyDrive/assignment4_dataset/target/D/D2201.jpg',\n",
              "              'drive/MyDrive/assignment4_dataset/target/D/D1301.jpg',\n",
              "              'drive/MyDrive/assignment4_dataset/target/D/D1701.jpg',\n",
              "              'drive/MyDrive/assignment4_dataset/target/D/D1901.jpg',\n",
              "              'drive/MyDrive/assignment4_dataset/target/D/D101.jpg',\n",
              "              'drive/MyDrive/assignment4_dataset/target/D/D1601.jpg',\n",
              "              'drive/MyDrive/assignment4_dataset/target/D/D1801.jpg',\n",
              "              'drive/MyDrive/assignment4_dataset/target/D/D2801.jpg',\n",
              "              'drive/MyDrive/assignment4_dataset/target/D/D401.jpg',\n",
              "              'drive/MyDrive/assignment4_dataset/target/D/D2701.jpg',\n",
              "              'drive/MyDrive/assignment4_dataset/target/D/D601.jpg',\n",
              "              'drive/MyDrive/assignment4_dataset/target/D/D2301.jpg',\n",
              "              'drive/MyDrive/assignment4_dataset/target/D/D2601.jpg',\n",
              "              'drive/MyDrive/assignment4_dataset/target/D/D201.jpg',\n",
              "              'drive/MyDrive/assignment4_dataset/target/D/D2901.jpg'],\n",
              "             'E': ['drive/MyDrive/assignment4_dataset/target/E/E101.jpg',\n",
              "              'drive/MyDrive/assignment4_dataset/target/E/E2001.jpg',\n",
              "              'drive/MyDrive/assignment4_dataset/target/E/E201.jpg',\n",
              "              'drive/MyDrive/assignment4_dataset/target/E/E1201.jpg',\n",
              "              'drive/MyDrive/assignment4_dataset/target/E/E501.jpg',\n",
              "              'drive/MyDrive/assignment4_dataset/target/E/E301.jpg',\n",
              "              'drive/MyDrive/assignment4_dataset/target/E/E2501.jpg',\n",
              "              'drive/MyDrive/assignment4_dataset/target/E/E2701.jpg',\n",
              "              'drive/MyDrive/assignment4_dataset/target/E/E2801.jpg',\n",
              "              'drive/MyDrive/assignment4_dataset/target/E/E1001.jpg',\n",
              "              'drive/MyDrive/assignment4_dataset/target/E/E2901.jpg',\n",
              "              'drive/MyDrive/assignment4_dataset/target/E/E1601.jpg',\n",
              "              'drive/MyDrive/assignment4_dataset/target/E/E601.jpg',\n",
              "              'drive/MyDrive/assignment4_dataset/target/E/E1801.jpg',\n",
              "              'drive/MyDrive/assignment4_dataset/target/E/E2601.jpg',\n",
              "              'drive/MyDrive/assignment4_dataset/target/E/E1.jpg',\n",
              "              'drive/MyDrive/assignment4_dataset/target/E/E1701.jpg',\n",
              "              'drive/MyDrive/assignment4_dataset/target/E/E1301.jpg',\n",
              "              'drive/MyDrive/assignment4_dataset/target/E/E1401.jpg',\n",
              "              'drive/MyDrive/assignment4_dataset/target/E/E2301.jpg',\n",
              "              'drive/MyDrive/assignment4_dataset/target/E/E2101.jpg',\n",
              "              'drive/MyDrive/assignment4_dataset/target/E/E801.jpg',\n",
              "              'drive/MyDrive/assignment4_dataset/target/E/E1901.jpg',\n",
              "              'drive/MyDrive/assignment4_dataset/target/E/E701.jpg',\n",
              "              'drive/MyDrive/assignment4_dataset/target/E/E401.jpg',\n",
              "              'drive/MyDrive/assignment4_dataset/target/E/E1101.jpg',\n",
              "              'drive/MyDrive/assignment4_dataset/target/E/E2201.jpg',\n",
              "              'drive/MyDrive/assignment4_dataset/target/E/E2401.jpg',\n",
              "              'drive/MyDrive/assignment4_dataset/target/E/E901.jpg',\n",
              "              'drive/MyDrive/assignment4_dataset/target/E/E1501.jpg'],\n",
              "             'F': ['drive/MyDrive/assignment4_dataset/target/F/F901.jpg',\n",
              "              'drive/MyDrive/assignment4_dataset/target/F/F2001.jpg',\n",
              "              'drive/MyDrive/assignment4_dataset/target/F/F1101.jpg',\n",
              "              'drive/MyDrive/assignment4_dataset/target/F/F1901.jpg',\n",
              "              'drive/MyDrive/assignment4_dataset/target/F/F201.jpg',\n",
              "              'drive/MyDrive/assignment4_dataset/target/F/F2201.jpg',\n",
              "              'drive/MyDrive/assignment4_dataset/target/F/F801.jpg',\n",
              "              'drive/MyDrive/assignment4_dataset/target/F/F2501.jpg',\n",
              "              'drive/MyDrive/assignment4_dataset/target/F/F301.jpg',\n",
              "              'drive/MyDrive/assignment4_dataset/target/F/F1001.jpg',\n",
              "              'drive/MyDrive/assignment4_dataset/target/F/F1201.jpg',\n",
              "              'drive/MyDrive/assignment4_dataset/target/F/F2301.jpg',\n",
              "              'drive/MyDrive/assignment4_dataset/target/F/F1401.jpg',\n",
              "              'drive/MyDrive/assignment4_dataset/target/F/F101.jpg',\n",
              "              'drive/MyDrive/assignment4_dataset/target/F/F2601.jpg',\n",
              "              'drive/MyDrive/assignment4_dataset/target/F/F2801.jpg',\n",
              "              'drive/MyDrive/assignment4_dataset/target/F/F701.jpg',\n",
              "              'drive/MyDrive/assignment4_dataset/target/F/F601.jpg',\n",
              "              'drive/MyDrive/assignment4_dataset/target/F/F401.jpg',\n",
              "              'drive/MyDrive/assignment4_dataset/target/F/F1.jpg',\n",
              "              'drive/MyDrive/assignment4_dataset/target/F/F2101.jpg',\n",
              "              'drive/MyDrive/assignment4_dataset/target/F/F2701.jpg',\n",
              "              'drive/MyDrive/assignment4_dataset/target/F/F2401.jpg',\n",
              "              'drive/MyDrive/assignment4_dataset/target/F/F1601.jpg',\n",
              "              'drive/MyDrive/assignment4_dataset/target/F/F1301.jpg',\n",
              "              'drive/MyDrive/assignment4_dataset/target/F/F1701.jpg',\n",
              "              'drive/MyDrive/assignment4_dataset/target/F/F501.jpg',\n",
              "              'drive/MyDrive/assignment4_dataset/target/F/F2901.jpg',\n",
              "              'drive/MyDrive/assignment4_dataset/target/F/F1801.jpg',\n",
              "              'drive/MyDrive/assignment4_dataset/target/F/F1501.jpg'],\n",
              "             'G': ['drive/MyDrive/assignment4_dataset/target/G/G1601.jpg',\n",
              "              'drive/MyDrive/assignment4_dataset/target/G/G201.jpg',\n",
              "              'drive/MyDrive/assignment4_dataset/target/G/G2601.jpg',\n",
              "              'drive/MyDrive/assignment4_dataset/target/G/G1.jpg',\n",
              "              'drive/MyDrive/assignment4_dataset/target/G/G801.jpg',\n",
              "              'drive/MyDrive/assignment4_dataset/target/G/G301.jpg',\n",
              "              'drive/MyDrive/assignment4_dataset/target/G/G701.jpg',\n",
              "              'drive/MyDrive/assignment4_dataset/target/G/G2101.jpg',\n",
              "              'drive/MyDrive/assignment4_dataset/target/G/G1401.jpg',\n",
              "              'drive/MyDrive/assignment4_dataset/target/G/G1201.jpg',\n",
              "              'drive/MyDrive/assignment4_dataset/target/G/G1801.jpg',\n",
              "              'drive/MyDrive/assignment4_dataset/target/G/G2801.jpg',\n",
              "              'drive/MyDrive/assignment4_dataset/target/G/G1701.jpg',\n",
              "              'drive/MyDrive/assignment4_dataset/target/G/G901.jpg',\n",
              "              'drive/MyDrive/assignment4_dataset/target/G/G2901.jpg',\n",
              "              'drive/MyDrive/assignment4_dataset/target/G/G2501.jpg',\n",
              "              'drive/MyDrive/assignment4_dataset/target/G/G101.jpg',\n",
              "              'drive/MyDrive/assignment4_dataset/target/G/G401.jpg',\n",
              "              'drive/MyDrive/assignment4_dataset/target/G/G2001.jpg',\n",
              "              'drive/MyDrive/assignment4_dataset/target/G/G1501.jpg',\n",
              "              'drive/MyDrive/assignment4_dataset/target/G/G1101.jpg',\n",
              "              'drive/MyDrive/assignment4_dataset/target/G/G2701.jpg',\n",
              "              'drive/MyDrive/assignment4_dataset/target/G/G1301.jpg',\n",
              "              'drive/MyDrive/assignment4_dataset/target/G/G1001.jpg',\n",
              "              'drive/MyDrive/assignment4_dataset/target/G/G1901.jpg',\n",
              "              'drive/MyDrive/assignment4_dataset/target/G/G501.jpg',\n",
              "              'drive/MyDrive/assignment4_dataset/target/G/G2301.jpg',\n",
              "              'drive/MyDrive/assignment4_dataset/target/G/G2401.jpg',\n",
              "              'drive/MyDrive/assignment4_dataset/target/G/G2201.jpg',\n",
              "              'drive/MyDrive/assignment4_dataset/target/G/G601.jpg'],\n",
              "             'H': ['drive/MyDrive/assignment4_dataset/target/H/H2601.jpg',\n",
              "              'drive/MyDrive/assignment4_dataset/target/H/H1201.jpg',\n",
              "              'drive/MyDrive/assignment4_dataset/target/H/H1401.jpg',\n",
              "              'drive/MyDrive/assignment4_dataset/target/H/H1701.jpg',\n",
              "              'drive/MyDrive/assignment4_dataset/target/H/H701.jpg',\n",
              "              'drive/MyDrive/assignment4_dataset/target/H/H601.jpg',\n",
              "              'drive/MyDrive/assignment4_dataset/target/H/H301.jpg',\n",
              "              'drive/MyDrive/assignment4_dataset/target/H/H401.jpg',\n",
              "              'drive/MyDrive/assignment4_dataset/target/H/H1901.jpg',\n",
              "              'drive/MyDrive/assignment4_dataset/target/H/H2501.jpg',\n",
              "              'drive/MyDrive/assignment4_dataset/target/H/H201.jpg',\n",
              "              'drive/MyDrive/assignment4_dataset/target/H/H2101.jpg',\n",
              "              'drive/MyDrive/assignment4_dataset/target/H/H1501.jpg',\n",
              "              'drive/MyDrive/assignment4_dataset/target/H/H801.jpg',\n",
              "              'drive/MyDrive/assignment4_dataset/target/H/H501.jpg',\n",
              "              'drive/MyDrive/assignment4_dataset/target/H/H2901.jpg',\n",
              "              'drive/MyDrive/assignment4_dataset/target/H/H1.jpg',\n",
              "              'drive/MyDrive/assignment4_dataset/target/H/H1001.jpg',\n",
              "              'drive/MyDrive/assignment4_dataset/target/H/H2001.jpg',\n",
              "              'drive/MyDrive/assignment4_dataset/target/H/H2401.jpg',\n",
              "              'drive/MyDrive/assignment4_dataset/target/H/H2201.jpg',\n",
              "              'drive/MyDrive/assignment4_dataset/target/H/H1801.jpg',\n",
              "              'drive/MyDrive/assignment4_dataset/target/H/H2301.jpg',\n",
              "              'drive/MyDrive/assignment4_dataset/target/H/H2801.jpg',\n",
              "              'drive/MyDrive/assignment4_dataset/target/H/H101.jpg',\n",
              "              'drive/MyDrive/assignment4_dataset/target/H/H1301.jpg',\n",
              "              'drive/MyDrive/assignment4_dataset/target/H/H2701.jpg',\n",
              "              'drive/MyDrive/assignment4_dataset/target/H/H1601.jpg',\n",
              "              'drive/MyDrive/assignment4_dataset/target/H/H901.jpg',\n",
              "              'drive/MyDrive/assignment4_dataset/target/H/H1101.jpg'],\n",
              "             'I': ['drive/MyDrive/assignment4_dataset/target/I/I2501.jpg',\n",
              "              'drive/MyDrive/assignment4_dataset/target/I/I2901.jpg',\n",
              "              'drive/MyDrive/assignment4_dataset/target/I/I1001.jpg',\n",
              "              'drive/MyDrive/assignment4_dataset/target/I/I1301.jpg',\n",
              "              'drive/MyDrive/assignment4_dataset/target/I/I301.jpg',\n",
              "              'drive/MyDrive/assignment4_dataset/target/I/I1201.jpg',\n",
              "              'drive/MyDrive/assignment4_dataset/target/I/I1501.jpg',\n",
              "              'drive/MyDrive/assignment4_dataset/target/I/I2401.jpg',\n",
              "              'drive/MyDrive/assignment4_dataset/target/I/I2001.jpg',\n",
              "              'drive/MyDrive/assignment4_dataset/target/I/I2701.jpg',\n",
              "              'drive/MyDrive/assignment4_dataset/target/I/I1901.jpg',\n",
              "              'drive/MyDrive/assignment4_dataset/target/I/I1401.jpg',\n",
              "              'drive/MyDrive/assignment4_dataset/target/I/I2201.jpg',\n",
              "              'drive/MyDrive/assignment4_dataset/target/I/I901.jpg',\n",
              "              'drive/MyDrive/assignment4_dataset/target/I/I1101.jpg',\n",
              "              'drive/MyDrive/assignment4_dataset/target/I/I701.jpg',\n",
              "              'drive/MyDrive/assignment4_dataset/target/I/I1.jpg',\n",
              "              'drive/MyDrive/assignment4_dataset/target/I/I2301.jpg',\n",
              "              'drive/MyDrive/assignment4_dataset/target/I/I801.jpg',\n",
              "              'drive/MyDrive/assignment4_dataset/target/I/I501.jpg',\n",
              "              'drive/MyDrive/assignment4_dataset/target/I/I1701.jpg',\n",
              "              'drive/MyDrive/assignment4_dataset/target/I/I1601.jpg',\n",
              "              'drive/MyDrive/assignment4_dataset/target/I/I2801.jpg',\n",
              "              'drive/MyDrive/assignment4_dataset/target/I/I601.jpg',\n",
              "              'drive/MyDrive/assignment4_dataset/target/I/I2601.jpg',\n",
              "              'drive/MyDrive/assignment4_dataset/target/I/I1801.jpg',\n",
              "              'drive/MyDrive/assignment4_dataset/target/I/I101.jpg',\n",
              "              'drive/MyDrive/assignment4_dataset/target/I/I2101.jpg',\n",
              "              'drive/MyDrive/assignment4_dataset/target/I/I201.jpg',\n",
              "              'drive/MyDrive/assignment4_dataset/target/I/I401.jpg'],\n",
              "             'J': ['drive/MyDrive/assignment4_dataset/target/J/J1401.jpg',\n",
              "              'drive/MyDrive/assignment4_dataset/target/J/J2501.jpg',\n",
              "              'drive/MyDrive/assignment4_dataset/target/J/J2001.jpg',\n",
              "              'drive/MyDrive/assignment4_dataset/target/J/J2801.jpg',\n",
              "              'drive/MyDrive/assignment4_dataset/target/J/J1901.jpg',\n",
              "              'drive/MyDrive/assignment4_dataset/target/J/J1.jpg',\n",
              "              'drive/MyDrive/assignment4_dataset/target/J/J901.jpg',\n",
              "              'drive/MyDrive/assignment4_dataset/target/J/J1601.jpg',\n",
              "              'drive/MyDrive/assignment4_dataset/target/J/J801.jpg',\n",
              "              'drive/MyDrive/assignment4_dataset/target/J/J101.jpg',\n",
              "              'drive/MyDrive/assignment4_dataset/target/J/J2601.jpg',\n",
              "              'drive/MyDrive/assignment4_dataset/target/J/J2301.jpg',\n",
              "              'drive/MyDrive/assignment4_dataset/target/J/J501.jpg',\n",
              "              'drive/MyDrive/assignment4_dataset/target/J/J2101.jpg',\n",
              "              'drive/MyDrive/assignment4_dataset/target/J/J701.jpg',\n",
              "              'drive/MyDrive/assignment4_dataset/target/J/J301.jpg',\n",
              "              'drive/MyDrive/assignment4_dataset/target/J/J1301.jpg',\n",
              "              'drive/MyDrive/assignment4_dataset/target/J/J2201.jpg',\n",
              "              'drive/MyDrive/assignment4_dataset/target/J/J1501.jpg',\n",
              "              'drive/MyDrive/assignment4_dataset/target/J/J2701.jpg',\n",
              "              'drive/MyDrive/assignment4_dataset/target/J/J2901.jpg',\n",
              "              'drive/MyDrive/assignment4_dataset/target/J/J601.jpg',\n",
              "              'drive/MyDrive/assignment4_dataset/target/J/J401.jpg',\n",
              "              'drive/MyDrive/assignment4_dataset/target/J/J1001.jpg',\n",
              "              'drive/MyDrive/assignment4_dataset/target/J/J2401.jpg',\n",
              "              'drive/MyDrive/assignment4_dataset/target/J/J1701.jpg',\n",
              "              'drive/MyDrive/assignment4_dataset/target/J/J1801.jpg',\n",
              "              'drive/MyDrive/assignment4_dataset/target/J/J1101.jpg',\n",
              "              'drive/MyDrive/assignment4_dataset/target/J/J1201.jpg',\n",
              "              'drive/MyDrive/assignment4_dataset/target/J/J201.jpg'],\n",
              "             'K': ['drive/MyDrive/assignment4_dataset/target/K/K401.jpg',\n",
              "              'drive/MyDrive/assignment4_dataset/target/K/K801.jpg',\n",
              "              'drive/MyDrive/assignment4_dataset/target/K/K2501.jpg',\n",
              "              'drive/MyDrive/assignment4_dataset/target/K/K2801.jpg',\n",
              "              'drive/MyDrive/assignment4_dataset/target/K/K101.jpg',\n",
              "              'drive/MyDrive/assignment4_dataset/target/K/K2601.jpg',\n",
              "              'drive/MyDrive/assignment4_dataset/target/K/K301.jpg',\n",
              "              'drive/MyDrive/assignment4_dataset/target/K/K2001.jpg',\n",
              "              'drive/MyDrive/assignment4_dataset/target/K/K1701.jpg',\n",
              "              'drive/MyDrive/assignment4_dataset/target/K/K2201.jpg',\n",
              "              'drive/MyDrive/assignment4_dataset/target/K/K901.jpg',\n",
              "              'drive/MyDrive/assignment4_dataset/target/K/K1401.jpg',\n",
              "              'drive/MyDrive/assignment4_dataset/target/K/K2301.jpg',\n",
              "              'drive/MyDrive/assignment4_dataset/target/K/K1501.jpg',\n",
              "              'drive/MyDrive/assignment4_dataset/target/K/K701.jpg',\n",
              "              'drive/MyDrive/assignment4_dataset/target/K/K2901.jpg',\n",
              "              'drive/MyDrive/assignment4_dataset/target/K/K2701.jpg',\n",
              "              'drive/MyDrive/assignment4_dataset/target/K/K1301.jpg',\n",
              "              'drive/MyDrive/assignment4_dataset/target/K/K2401.jpg',\n",
              "              'drive/MyDrive/assignment4_dataset/target/K/K601.jpg',\n",
              "              'drive/MyDrive/assignment4_dataset/target/K/K1801.jpg',\n",
              "              'drive/MyDrive/assignment4_dataset/target/K/K1201.jpg',\n",
              "              'drive/MyDrive/assignment4_dataset/target/K/K1101.jpg',\n",
              "              'drive/MyDrive/assignment4_dataset/target/K/K2101.jpg',\n",
              "              'drive/MyDrive/assignment4_dataset/target/K/K1001.jpg',\n",
              "              'drive/MyDrive/assignment4_dataset/target/K/K501.jpg',\n",
              "              'drive/MyDrive/assignment4_dataset/target/K/K1601.jpg',\n",
              "              'drive/MyDrive/assignment4_dataset/target/K/K201.jpg',\n",
              "              'drive/MyDrive/assignment4_dataset/target/K/K1901.jpg',\n",
              "              'drive/MyDrive/assignment4_dataset/target/K/K1.jpg'],\n",
              "             'L': ['drive/MyDrive/assignment4_dataset/target/L/L2701.jpg',\n",
              "              'drive/MyDrive/assignment4_dataset/target/L/L101.jpg',\n",
              "              'drive/MyDrive/assignment4_dataset/target/L/L2901.jpg',\n",
              "              'drive/MyDrive/assignment4_dataset/target/L/L301.jpg',\n",
              "              'drive/MyDrive/assignment4_dataset/target/L/L1101.jpg',\n",
              "              'drive/MyDrive/assignment4_dataset/target/L/L1901.jpg',\n",
              "              'drive/MyDrive/assignment4_dataset/target/L/L701.jpg',\n",
              "              'drive/MyDrive/assignment4_dataset/target/L/L2001.jpg',\n",
              "              'drive/MyDrive/assignment4_dataset/target/L/L601.jpg',\n",
              "              'drive/MyDrive/assignment4_dataset/target/L/L201.jpg',\n",
              "              'drive/MyDrive/assignment4_dataset/target/L/L1.jpg',\n",
              "              'drive/MyDrive/assignment4_dataset/target/L/L2301.jpg',\n",
              "              'drive/MyDrive/assignment4_dataset/target/L/L1801.jpg',\n",
              "              'drive/MyDrive/assignment4_dataset/target/L/L2201.jpg',\n",
              "              'drive/MyDrive/assignment4_dataset/target/L/L1201.jpg',\n",
              "              'drive/MyDrive/assignment4_dataset/target/L/L2801.jpg',\n",
              "              'drive/MyDrive/assignment4_dataset/target/L/L401.jpg',\n",
              "              'drive/MyDrive/assignment4_dataset/target/L/L501.jpg',\n",
              "              'drive/MyDrive/assignment4_dataset/target/L/L1301.jpg',\n",
              "              'drive/MyDrive/assignment4_dataset/target/L/L1601.jpg',\n",
              "              'drive/MyDrive/assignment4_dataset/target/L/L1401.jpg',\n",
              "              'drive/MyDrive/assignment4_dataset/target/L/L1701.jpg',\n",
              "              'drive/MyDrive/assignment4_dataset/target/L/L2501.jpg',\n",
              "              'drive/MyDrive/assignment4_dataset/target/L/L1001.jpg',\n",
              "              'drive/MyDrive/assignment4_dataset/target/L/L2401.jpg',\n",
              "              'drive/MyDrive/assignment4_dataset/target/L/L2101.jpg',\n",
              "              'drive/MyDrive/assignment4_dataset/target/L/L801.jpg',\n",
              "              'drive/MyDrive/assignment4_dataset/target/L/L901.jpg',\n",
              "              'drive/MyDrive/assignment4_dataset/target/L/L2601.jpg',\n",
              "              'drive/MyDrive/assignment4_dataset/target/L/L1501.jpg'],\n",
              "             'M': ['drive/MyDrive/assignment4_dataset/target/M/M2001.jpg',\n",
              "              'drive/MyDrive/assignment4_dataset/target/M/M1401.jpg',\n",
              "              'drive/MyDrive/assignment4_dataset/target/M/M601.jpg',\n",
              "              'drive/MyDrive/assignment4_dataset/target/M/M1501.jpg',\n",
              "              'drive/MyDrive/assignment4_dataset/target/M/M2701.jpg',\n",
              "              'drive/MyDrive/assignment4_dataset/target/M/M2501.jpg',\n",
              "              'drive/MyDrive/assignment4_dataset/target/M/M1301.jpg',\n",
              "              'drive/MyDrive/assignment4_dataset/target/M/M1901.jpg',\n",
              "              'drive/MyDrive/assignment4_dataset/target/M/M2101.jpg',\n",
              "              'drive/MyDrive/assignment4_dataset/target/M/M2801.jpg',\n",
              "              'drive/MyDrive/assignment4_dataset/target/M/M2601.jpg',\n",
              "              'drive/MyDrive/assignment4_dataset/target/M/M901.jpg',\n",
              "              'drive/MyDrive/assignment4_dataset/target/M/M2901.jpg',\n",
              "              'drive/MyDrive/assignment4_dataset/target/M/M2401.jpg',\n",
              "              'drive/MyDrive/assignment4_dataset/target/M/M2301.jpg',\n",
              "              'drive/MyDrive/assignment4_dataset/target/M/M1201.jpg',\n",
              "              'drive/MyDrive/assignment4_dataset/target/M/M801.jpg',\n",
              "              'drive/MyDrive/assignment4_dataset/target/M/M1701.jpg',\n",
              "              'drive/MyDrive/assignment4_dataset/target/M/M201.jpg',\n",
              "              'drive/MyDrive/assignment4_dataset/target/M/M501.jpg',\n",
              "              'drive/MyDrive/assignment4_dataset/target/M/M1801.jpg',\n",
              "              'drive/MyDrive/assignment4_dataset/target/M/M101.jpg',\n",
              "              'drive/MyDrive/assignment4_dataset/target/M/M2201.jpg',\n",
              "              'drive/MyDrive/assignment4_dataset/target/M/M401.jpg',\n",
              "              'drive/MyDrive/assignment4_dataset/target/M/M1601.jpg',\n",
              "              'drive/MyDrive/assignment4_dataset/target/M/M301.jpg',\n",
              "              'drive/MyDrive/assignment4_dataset/target/M/M1001.jpg',\n",
              "              'drive/MyDrive/assignment4_dataset/target/M/M1.jpg',\n",
              "              'drive/MyDrive/assignment4_dataset/target/M/M1101.jpg',\n",
              "              'drive/MyDrive/assignment4_dataset/target/M/M701.jpg'],\n",
              "             'N': ['drive/MyDrive/assignment4_dataset/target/N/N1701.jpg',\n",
              "              'drive/MyDrive/assignment4_dataset/target/N/N801.jpg',\n",
              "              'drive/MyDrive/assignment4_dataset/target/N/N1901.jpg',\n",
              "              'drive/MyDrive/assignment4_dataset/target/N/N2901.jpg',\n",
              "              'drive/MyDrive/assignment4_dataset/target/N/N1401.jpg',\n",
              "              'drive/MyDrive/assignment4_dataset/target/N/N2701.jpg',\n",
              "              'drive/MyDrive/assignment4_dataset/target/N/N1101.jpg',\n",
              "              'drive/MyDrive/assignment4_dataset/target/N/N501.jpg',\n",
              "              'drive/MyDrive/assignment4_dataset/target/N/N401.jpg',\n",
              "              'drive/MyDrive/assignment4_dataset/target/N/N1.jpg',\n",
              "              'drive/MyDrive/assignment4_dataset/target/N/N2801.jpg',\n",
              "              'drive/MyDrive/assignment4_dataset/target/N/N901.jpg',\n",
              "              'drive/MyDrive/assignment4_dataset/target/N/N2301.jpg',\n",
              "              'drive/MyDrive/assignment4_dataset/target/N/N2101.jpg',\n",
              "              'drive/MyDrive/assignment4_dataset/target/N/N1001.jpg',\n",
              "              'drive/MyDrive/assignment4_dataset/target/N/N1801.jpg',\n",
              "              'drive/MyDrive/assignment4_dataset/target/N/N301.jpg',\n",
              "              'drive/MyDrive/assignment4_dataset/target/N/N1601.jpg',\n",
              "              'drive/MyDrive/assignment4_dataset/target/N/N701.jpg',\n",
              "              'drive/MyDrive/assignment4_dataset/target/N/N2501.jpg',\n",
              "              'drive/MyDrive/assignment4_dataset/target/N/N1201.jpg',\n",
              "              'drive/MyDrive/assignment4_dataset/target/N/N1301.jpg',\n",
              "              'drive/MyDrive/assignment4_dataset/target/N/N2401.jpg',\n",
              "              'drive/MyDrive/assignment4_dataset/target/N/N2601.jpg',\n",
              "              'drive/MyDrive/assignment4_dataset/target/N/N2201.jpg',\n",
              "              'drive/MyDrive/assignment4_dataset/target/N/N101.jpg',\n",
              "              'drive/MyDrive/assignment4_dataset/target/N/N601.jpg',\n",
              "              'drive/MyDrive/assignment4_dataset/target/N/N2001.jpg',\n",
              "              'drive/MyDrive/assignment4_dataset/target/N/N201.jpg',\n",
              "              'drive/MyDrive/assignment4_dataset/target/N/N1501.jpg'],\n",
              "             'O': ['drive/MyDrive/assignment4_dataset/target/O/O2301.jpg',\n",
              "              'drive/MyDrive/assignment4_dataset/target/O/O1101.jpg',\n",
              "              'drive/MyDrive/assignment4_dataset/target/O/O2501.jpg',\n",
              "              'drive/MyDrive/assignment4_dataset/target/O/O1.jpg',\n",
              "              'drive/MyDrive/assignment4_dataset/target/O/O1601.jpg',\n",
              "              'drive/MyDrive/assignment4_dataset/target/O/O2101.jpg',\n",
              "              'drive/MyDrive/assignment4_dataset/target/O/O101.jpg',\n",
              "              'drive/MyDrive/assignment4_dataset/target/O/O1501.jpg',\n",
              "              'drive/MyDrive/assignment4_dataset/target/O/O801.jpg',\n",
              "              'drive/MyDrive/assignment4_dataset/target/O/O701.jpg',\n",
              "              'drive/MyDrive/assignment4_dataset/target/O/O201.jpg',\n",
              "              'drive/MyDrive/assignment4_dataset/target/O/O301.jpg',\n",
              "              'drive/MyDrive/assignment4_dataset/target/O/O2001.jpg',\n",
              "              'drive/MyDrive/assignment4_dataset/target/O/O1301.jpg',\n",
              "              'drive/MyDrive/assignment4_dataset/target/O/O2701.jpg',\n",
              "              'drive/MyDrive/assignment4_dataset/target/O/O501.jpg',\n",
              "              'drive/MyDrive/assignment4_dataset/target/O/O2401.jpg',\n",
              "              'drive/MyDrive/assignment4_dataset/target/O/O1201.jpg',\n",
              "              'drive/MyDrive/assignment4_dataset/target/O/O1701.jpg',\n",
              "              'drive/MyDrive/assignment4_dataset/target/O/O601.jpg',\n",
              "              'drive/MyDrive/assignment4_dataset/target/O/O401.jpg',\n",
              "              'drive/MyDrive/assignment4_dataset/target/O/O901.jpg',\n",
              "              'drive/MyDrive/assignment4_dataset/target/O/O2801.jpg',\n",
              "              'drive/MyDrive/assignment4_dataset/target/O/O1901.jpg',\n",
              "              'drive/MyDrive/assignment4_dataset/target/O/O2201.jpg',\n",
              "              'drive/MyDrive/assignment4_dataset/target/O/O1401.jpg',\n",
              "              'drive/MyDrive/assignment4_dataset/target/O/O2601.jpg',\n",
              "              'drive/MyDrive/assignment4_dataset/target/O/O1801.jpg',\n",
              "              'drive/MyDrive/assignment4_dataset/target/O/O2901.jpg',\n",
              "              'drive/MyDrive/assignment4_dataset/target/O/O1001.jpg'],\n",
              "             'P': ['drive/MyDrive/assignment4_dataset/target/P/P201.jpg',\n",
              "              'drive/MyDrive/assignment4_dataset/target/P/P2501.jpg',\n",
              "              'drive/MyDrive/assignment4_dataset/target/P/P1301.jpg',\n",
              "              'drive/MyDrive/assignment4_dataset/target/P/P101.jpg',\n",
              "              'drive/MyDrive/assignment4_dataset/target/P/P1401.jpg',\n",
              "              'drive/MyDrive/assignment4_dataset/target/P/P1201.jpg',\n",
              "              'drive/MyDrive/assignment4_dataset/target/P/P1101.jpg',\n",
              "              'drive/MyDrive/assignment4_dataset/target/P/P2101.jpg',\n",
              "              'drive/MyDrive/assignment4_dataset/target/P/P301.jpg',\n",
              "              'drive/MyDrive/assignment4_dataset/target/P/P2001.jpg',\n",
              "              'drive/MyDrive/assignment4_dataset/target/P/P2401.jpg',\n",
              "              'drive/MyDrive/assignment4_dataset/target/P/P401.jpg',\n",
              "              'drive/MyDrive/assignment4_dataset/target/P/P2901.jpg',\n",
              "              'drive/MyDrive/assignment4_dataset/target/P/P701.jpg',\n",
              "              'drive/MyDrive/assignment4_dataset/target/P/P1001.jpg',\n",
              "              'drive/MyDrive/assignment4_dataset/target/P/P901.jpg',\n",
              "              'drive/MyDrive/assignment4_dataset/target/P/P601.jpg',\n",
              "              'drive/MyDrive/assignment4_dataset/target/P/P2601.jpg',\n",
              "              'drive/MyDrive/assignment4_dataset/target/P/P1501.jpg',\n",
              "              'drive/MyDrive/assignment4_dataset/target/P/P1801.jpg',\n",
              "              'drive/MyDrive/assignment4_dataset/target/P/P501.jpg',\n",
              "              'drive/MyDrive/assignment4_dataset/target/P/P2201.jpg',\n",
              "              'drive/MyDrive/assignment4_dataset/target/P/P2801.jpg',\n",
              "              'drive/MyDrive/assignment4_dataset/target/P/P1901.jpg',\n",
              "              'drive/MyDrive/assignment4_dataset/target/P/P2701.jpg',\n",
              "              'drive/MyDrive/assignment4_dataset/target/P/P801.jpg',\n",
              "              'drive/MyDrive/assignment4_dataset/target/P/P2301.jpg',\n",
              "              'drive/MyDrive/assignment4_dataset/target/P/P1701.jpg',\n",
              "              'drive/MyDrive/assignment4_dataset/target/P/P1601.jpg',\n",
              "              'drive/MyDrive/assignment4_dataset/target/P/P1.jpg'],\n",
              "             'Q': ['drive/MyDrive/assignment4_dataset/target/Q/Q501.jpg',\n",
              "              'drive/MyDrive/assignment4_dataset/target/Q/Q2701.jpg',\n",
              "              'drive/MyDrive/assignment4_dataset/target/Q/Q1201.jpg',\n",
              "              'drive/MyDrive/assignment4_dataset/target/Q/Q1801.jpg',\n",
              "              'drive/MyDrive/assignment4_dataset/target/Q/Q2301.jpg',\n",
              "              'drive/MyDrive/assignment4_dataset/target/Q/Q1001.jpg',\n",
              "              'drive/MyDrive/assignment4_dataset/target/Q/Q2501.jpg',\n",
              "              'drive/MyDrive/assignment4_dataset/target/Q/Q401.jpg',\n",
              "              'drive/MyDrive/assignment4_dataset/target/Q/Q1401.jpg',\n",
              "              'drive/MyDrive/assignment4_dataset/target/Q/Q201.jpg',\n",
              "              'drive/MyDrive/assignment4_dataset/target/Q/Q1701.jpg',\n",
              "              'drive/MyDrive/assignment4_dataset/target/Q/Q2201.jpg',\n",
              "              'drive/MyDrive/assignment4_dataset/target/Q/Q1501.jpg',\n",
              "              'drive/MyDrive/assignment4_dataset/target/Q/Q1601.jpg',\n",
              "              'drive/MyDrive/assignment4_dataset/target/Q/Q901.jpg',\n",
              "              'drive/MyDrive/assignment4_dataset/target/Q/Q801.jpg',\n",
              "              'drive/MyDrive/assignment4_dataset/target/Q/Q701.jpg',\n",
              "              'drive/MyDrive/assignment4_dataset/target/Q/Q2001.jpg',\n",
              "              'drive/MyDrive/assignment4_dataset/target/Q/Q2601.jpg',\n",
              "              'drive/MyDrive/assignment4_dataset/target/Q/Q301.jpg',\n",
              "              'drive/MyDrive/assignment4_dataset/target/Q/Q1901.jpg',\n",
              "              'drive/MyDrive/assignment4_dataset/target/Q/Q1.jpg',\n",
              "              'drive/MyDrive/assignment4_dataset/target/Q/Q2401.jpg',\n",
              "              'drive/MyDrive/assignment4_dataset/target/Q/Q101.jpg',\n",
              "              'drive/MyDrive/assignment4_dataset/target/Q/Q2801.jpg',\n",
              "              'drive/MyDrive/assignment4_dataset/target/Q/Q2901.jpg',\n",
              "              'drive/MyDrive/assignment4_dataset/target/Q/Q1101.jpg',\n",
              "              'drive/MyDrive/assignment4_dataset/target/Q/Q2101.jpg',\n",
              "              'drive/MyDrive/assignment4_dataset/target/Q/Q1301.jpg',\n",
              "              'drive/MyDrive/assignment4_dataset/target/Q/Q601.jpg'],\n",
              "             'R': ['drive/MyDrive/assignment4_dataset/target/R/R1901.jpg',\n",
              "              'drive/MyDrive/assignment4_dataset/target/R/R2701.jpg',\n",
              "              'drive/MyDrive/assignment4_dataset/target/R/R1701.jpg',\n",
              "              'drive/MyDrive/assignment4_dataset/target/R/R1001.jpg',\n",
              "              'drive/MyDrive/assignment4_dataset/target/R/R1201.jpg',\n",
              "              'drive/MyDrive/assignment4_dataset/target/R/R901.jpg',\n",
              "              'drive/MyDrive/assignment4_dataset/target/R/R2901.jpg',\n",
              "              'drive/MyDrive/assignment4_dataset/target/R/R2401.jpg',\n",
              "              'drive/MyDrive/assignment4_dataset/target/R/R1101.jpg',\n",
              "              'drive/MyDrive/assignment4_dataset/target/R/R1401.jpg',\n",
              "              'drive/MyDrive/assignment4_dataset/target/R/R2201.jpg',\n",
              "              'drive/MyDrive/assignment4_dataset/target/R/R101.jpg',\n",
              "              'drive/MyDrive/assignment4_dataset/target/R/R2501.jpg',\n",
              "              'drive/MyDrive/assignment4_dataset/target/R/R1501.jpg',\n",
              "              'drive/MyDrive/assignment4_dataset/target/R/R1801.jpg',\n",
              "              'drive/MyDrive/assignment4_dataset/target/R/R2801.jpg',\n",
              "              'drive/MyDrive/assignment4_dataset/target/R/R2301.jpg',\n",
              "              'drive/MyDrive/assignment4_dataset/target/R/R601.jpg',\n",
              "              'drive/MyDrive/assignment4_dataset/target/R/R2001.jpg',\n",
              "              'drive/MyDrive/assignment4_dataset/target/R/R301.jpg',\n",
              "              'drive/MyDrive/assignment4_dataset/target/R/R701.jpg',\n",
              "              'drive/MyDrive/assignment4_dataset/target/R/R2601.jpg',\n",
              "              'drive/MyDrive/assignment4_dataset/target/R/R501.jpg',\n",
              "              'drive/MyDrive/assignment4_dataset/target/R/R1301.jpg',\n",
              "              'drive/MyDrive/assignment4_dataset/target/R/R2101.jpg',\n",
              "              'drive/MyDrive/assignment4_dataset/target/R/R1601.jpg',\n",
              "              'drive/MyDrive/assignment4_dataset/target/R/R201.jpg',\n",
              "              'drive/MyDrive/assignment4_dataset/target/R/R401.jpg',\n",
              "              'drive/MyDrive/assignment4_dataset/target/R/R801.jpg',\n",
              "              'drive/MyDrive/assignment4_dataset/target/R/R1.jpg'],\n",
              "             'S': ['drive/MyDrive/assignment4_dataset/target/S/S1401.jpg',\n",
              "              'drive/MyDrive/assignment4_dataset/target/S/S2201.jpg',\n",
              "              'drive/MyDrive/assignment4_dataset/target/S/S2901.jpg',\n",
              "              'drive/MyDrive/assignment4_dataset/target/S/S1101.jpg',\n",
              "              'drive/MyDrive/assignment4_dataset/target/S/S2301.jpg',\n",
              "              'drive/MyDrive/assignment4_dataset/target/S/S301.jpg',\n",
              "              'drive/MyDrive/assignment4_dataset/target/S/S2101.jpg',\n",
              "              'drive/MyDrive/assignment4_dataset/target/S/S2801.jpg',\n",
              "              'drive/MyDrive/assignment4_dataset/target/S/S1.jpg',\n",
              "              'drive/MyDrive/assignment4_dataset/target/S/S2701.jpg',\n",
              "              'drive/MyDrive/assignment4_dataset/target/S/S1001.jpg',\n",
              "              'drive/MyDrive/assignment4_dataset/target/S/S1501.jpg',\n",
              "              'drive/MyDrive/assignment4_dataset/target/S/S2601.jpg',\n",
              "              'drive/MyDrive/assignment4_dataset/target/S/S101.jpg',\n",
              "              'drive/MyDrive/assignment4_dataset/target/S/S1301.jpg',\n",
              "              'drive/MyDrive/assignment4_dataset/target/S/S401.jpg',\n",
              "              'drive/MyDrive/assignment4_dataset/target/S/S2401.jpg',\n",
              "              'drive/MyDrive/assignment4_dataset/target/S/S1701.jpg',\n",
              "              'drive/MyDrive/assignment4_dataset/target/S/S701.jpg',\n",
              "              'drive/MyDrive/assignment4_dataset/target/S/S2501.jpg',\n",
              "              'drive/MyDrive/assignment4_dataset/target/S/S801.jpg',\n",
              "              'drive/MyDrive/assignment4_dataset/target/S/S901.jpg',\n",
              "              'drive/MyDrive/assignment4_dataset/target/S/S601.jpg',\n",
              "              'drive/MyDrive/assignment4_dataset/target/S/S201.jpg',\n",
              "              'drive/MyDrive/assignment4_dataset/target/S/S1201.jpg',\n",
              "              'drive/MyDrive/assignment4_dataset/target/S/S1601.jpg',\n",
              "              'drive/MyDrive/assignment4_dataset/target/S/S501.jpg',\n",
              "              'drive/MyDrive/assignment4_dataset/target/S/S1801.jpg',\n",
              "              'drive/MyDrive/assignment4_dataset/target/S/S2001.jpg',\n",
              "              'drive/MyDrive/assignment4_dataset/target/S/S1901.jpg'],\n",
              "             'T': ['drive/MyDrive/assignment4_dataset/target/T/T1301.jpg',\n",
              "              'drive/MyDrive/assignment4_dataset/target/T/T2201.jpg',\n",
              "              'drive/MyDrive/assignment4_dataset/target/T/T2001.jpg',\n",
              "              'drive/MyDrive/assignment4_dataset/target/T/T1901.jpg',\n",
              "              'drive/MyDrive/assignment4_dataset/target/T/T901.jpg',\n",
              "              'drive/MyDrive/assignment4_dataset/target/T/T1701.jpg',\n",
              "              'drive/MyDrive/assignment4_dataset/target/T/T701.jpg',\n",
              "              'drive/MyDrive/assignment4_dataset/target/T/T501.jpg',\n",
              "              'drive/MyDrive/assignment4_dataset/target/T/T401.jpg',\n",
              "              'drive/MyDrive/assignment4_dataset/target/T/T2501.jpg',\n",
              "              'drive/MyDrive/assignment4_dataset/target/T/T1601.jpg',\n",
              "              'drive/MyDrive/assignment4_dataset/target/T/T301.jpg',\n",
              "              'drive/MyDrive/assignment4_dataset/target/T/T601.jpg',\n",
              "              'drive/MyDrive/assignment4_dataset/target/T/T2701.jpg',\n",
              "              'drive/MyDrive/assignment4_dataset/target/T/T2101.jpg',\n",
              "              'drive/MyDrive/assignment4_dataset/target/T/T201.jpg',\n",
              "              'drive/MyDrive/assignment4_dataset/target/T/T2601.jpg',\n",
              "              'drive/MyDrive/assignment4_dataset/target/T/T1201.jpg',\n",
              "              'drive/MyDrive/assignment4_dataset/target/T/T2301.jpg',\n",
              "              'drive/MyDrive/assignment4_dataset/target/T/T1501.jpg',\n",
              "              'drive/MyDrive/assignment4_dataset/target/T/T1101.jpg',\n",
              "              'drive/MyDrive/assignment4_dataset/target/T/T1001.jpg',\n",
              "              'drive/MyDrive/assignment4_dataset/target/T/T101.jpg',\n",
              "              'drive/MyDrive/assignment4_dataset/target/T/T801.jpg',\n",
              "              'drive/MyDrive/assignment4_dataset/target/T/T2801.jpg',\n",
              "              'drive/MyDrive/assignment4_dataset/target/T/T1.jpg',\n",
              "              'drive/MyDrive/assignment4_dataset/target/T/T1801.jpg',\n",
              "              'drive/MyDrive/assignment4_dataset/target/T/T2901.jpg',\n",
              "              'drive/MyDrive/assignment4_dataset/target/T/T2401.jpg',\n",
              "              'drive/MyDrive/assignment4_dataset/target/T/T1401.jpg'],\n",
              "             'U': ['drive/MyDrive/assignment4_dataset/target/U/U2401.jpg',\n",
              "              'drive/MyDrive/assignment4_dataset/target/U/U201.jpg',\n",
              "              'drive/MyDrive/assignment4_dataset/target/U/U1.jpg',\n",
              "              'drive/MyDrive/assignment4_dataset/target/U/U1001.jpg',\n",
              "              'drive/MyDrive/assignment4_dataset/target/U/U2501.jpg',\n",
              "              'drive/MyDrive/assignment4_dataset/target/U/U301.jpg',\n",
              "              'drive/MyDrive/assignment4_dataset/target/U/U1101.jpg',\n",
              "              'drive/MyDrive/assignment4_dataset/target/U/U2601.jpg',\n",
              "              'drive/MyDrive/assignment4_dataset/target/U/U601.jpg',\n",
              "              'drive/MyDrive/assignment4_dataset/target/U/U1301.jpg',\n",
              "              'drive/MyDrive/assignment4_dataset/target/U/U901.jpg',\n",
              "              'drive/MyDrive/assignment4_dataset/target/U/U2701.jpg',\n",
              "              'drive/MyDrive/assignment4_dataset/target/U/U2801.jpg',\n",
              "              'drive/MyDrive/assignment4_dataset/target/U/U1501.jpg',\n",
              "              'drive/MyDrive/assignment4_dataset/target/U/U101.jpg',\n",
              "              'drive/MyDrive/assignment4_dataset/target/U/U1201.jpg',\n",
              "              'drive/MyDrive/assignment4_dataset/target/U/U701.jpg',\n",
              "              'drive/MyDrive/assignment4_dataset/target/U/U2301.jpg',\n",
              "              'drive/MyDrive/assignment4_dataset/target/U/U401.jpg',\n",
              "              'drive/MyDrive/assignment4_dataset/target/U/U501.jpg',\n",
              "              'drive/MyDrive/assignment4_dataset/target/U/U2901.jpg',\n",
              "              'drive/MyDrive/assignment4_dataset/target/U/U2101.jpg',\n",
              "              'drive/MyDrive/assignment4_dataset/target/U/U1901.jpg',\n",
              "              'drive/MyDrive/assignment4_dataset/target/U/U1701.jpg',\n",
              "              'drive/MyDrive/assignment4_dataset/target/U/U2001.jpg',\n",
              "              'drive/MyDrive/assignment4_dataset/target/U/U2201.jpg',\n",
              "              'drive/MyDrive/assignment4_dataset/target/U/U801.jpg',\n",
              "              'drive/MyDrive/assignment4_dataset/target/U/U1801.jpg',\n",
              "              'drive/MyDrive/assignment4_dataset/target/U/U1401.jpg',\n",
              "              'drive/MyDrive/assignment4_dataset/target/U/U1601.jpg'],\n",
              "             'V': ['drive/MyDrive/assignment4_dataset/target/V/V1101.jpg',\n",
              "              'drive/MyDrive/assignment4_dataset/target/V/V901.jpg',\n",
              "              'drive/MyDrive/assignment4_dataset/target/V/V401.jpg',\n",
              "              'drive/MyDrive/assignment4_dataset/target/V/V1801.jpg',\n",
              "              'drive/MyDrive/assignment4_dataset/target/V/V2801.jpg',\n",
              "              'drive/MyDrive/assignment4_dataset/target/V/V1901.jpg',\n",
              "              'drive/MyDrive/assignment4_dataset/target/V/V1701.jpg',\n",
              "              'drive/MyDrive/assignment4_dataset/target/V/V101.jpg',\n",
              "              'drive/MyDrive/assignment4_dataset/target/V/V1501.jpg',\n",
              "              'drive/MyDrive/assignment4_dataset/target/V/V2201.jpg',\n",
              "              'drive/MyDrive/assignment4_dataset/target/V/V2501.jpg',\n",
              "              'drive/MyDrive/assignment4_dataset/target/V/V2101.jpg',\n",
              "              'drive/MyDrive/assignment4_dataset/target/V/V2401.jpg',\n",
              "              'drive/MyDrive/assignment4_dataset/target/V/V201.jpg',\n",
              "              'drive/MyDrive/assignment4_dataset/target/V/V801.jpg',\n",
              "              'drive/MyDrive/assignment4_dataset/target/V/V2301.jpg',\n",
              "              'drive/MyDrive/assignment4_dataset/target/V/V2601.jpg',\n",
              "              'drive/MyDrive/assignment4_dataset/target/V/V2001.jpg',\n",
              "              'drive/MyDrive/assignment4_dataset/target/V/V1201.jpg',\n",
              "              'drive/MyDrive/assignment4_dataset/target/V/V1.jpg',\n",
              "              'drive/MyDrive/assignment4_dataset/target/V/V2901.jpg',\n",
              "              'drive/MyDrive/assignment4_dataset/target/V/V601.jpg',\n",
              "              'drive/MyDrive/assignment4_dataset/target/V/V1001.jpg',\n",
              "              'drive/MyDrive/assignment4_dataset/target/V/V701.jpg',\n",
              "              'drive/MyDrive/assignment4_dataset/target/V/V1301.jpg',\n",
              "              'drive/MyDrive/assignment4_dataset/target/V/V301.jpg',\n",
              "              'drive/MyDrive/assignment4_dataset/target/V/V501.jpg',\n",
              "              'drive/MyDrive/assignment4_dataset/target/V/V1601.jpg',\n",
              "              'drive/MyDrive/assignment4_dataset/target/V/V1401.jpg',\n",
              "              'drive/MyDrive/assignment4_dataset/target/V/V2701.jpg'],\n",
              "             'W': ['drive/MyDrive/assignment4_dataset/target/W/W1401.jpg',\n",
              "              'drive/MyDrive/assignment4_dataset/target/W/W2001.jpg',\n",
              "              'drive/MyDrive/assignment4_dataset/target/W/W1201.jpg',\n",
              "              'drive/MyDrive/assignment4_dataset/target/W/W2801.jpg',\n",
              "              'drive/MyDrive/assignment4_dataset/target/W/W2601.jpg',\n",
              "              'drive/MyDrive/assignment4_dataset/target/W/W301.jpg',\n",
              "              'drive/MyDrive/assignment4_dataset/target/W/W901.jpg',\n",
              "              'drive/MyDrive/assignment4_dataset/target/W/W1701.jpg',\n",
              "              'drive/MyDrive/assignment4_dataset/target/W/W1901.jpg',\n",
              "              'drive/MyDrive/assignment4_dataset/target/W/W2701.jpg',\n",
              "              'drive/MyDrive/assignment4_dataset/target/W/W2901.jpg',\n",
              "              'drive/MyDrive/assignment4_dataset/target/W/W2401.jpg',\n",
              "              'drive/MyDrive/assignment4_dataset/target/W/W2301.jpg',\n",
              "              'drive/MyDrive/assignment4_dataset/target/W/W1101.jpg',\n",
              "              'drive/MyDrive/assignment4_dataset/target/W/W1301.jpg',\n",
              "              'drive/MyDrive/assignment4_dataset/target/W/W801.jpg',\n",
              "              'drive/MyDrive/assignment4_dataset/target/W/W2101.jpg',\n",
              "              'drive/MyDrive/assignment4_dataset/target/W/W401.jpg',\n",
              "              'drive/MyDrive/assignment4_dataset/target/W/W601.jpg',\n",
              "              'drive/MyDrive/assignment4_dataset/target/W/W101.jpg',\n",
              "              'drive/MyDrive/assignment4_dataset/target/W/W1601.jpg',\n",
              "              'drive/MyDrive/assignment4_dataset/target/W/W2501.jpg',\n",
              "              'drive/MyDrive/assignment4_dataset/target/W/W701.jpg',\n",
              "              'drive/MyDrive/assignment4_dataset/target/W/W1.jpg',\n",
              "              'drive/MyDrive/assignment4_dataset/target/W/W1001.jpg',\n",
              "              'drive/MyDrive/assignment4_dataset/target/W/W201.jpg',\n",
              "              'drive/MyDrive/assignment4_dataset/target/W/W1501.jpg',\n",
              "              'drive/MyDrive/assignment4_dataset/target/W/W1801.jpg',\n",
              "              'drive/MyDrive/assignment4_dataset/target/W/W2201.jpg',\n",
              "              'drive/MyDrive/assignment4_dataset/target/W/W501.jpg'],\n",
              "             'X': ['drive/MyDrive/assignment4_dataset/target/X/X2201.jpg',\n",
              "              'drive/MyDrive/assignment4_dataset/target/X/X101.jpg',\n",
              "              'drive/MyDrive/assignment4_dataset/target/X/X2501.jpg',\n",
              "              'drive/MyDrive/assignment4_dataset/target/X/X2101.jpg',\n",
              "              'drive/MyDrive/assignment4_dataset/target/X/X1201.jpg',\n",
              "              'drive/MyDrive/assignment4_dataset/target/X/X2301.jpg',\n",
              "              'drive/MyDrive/assignment4_dataset/target/X/X801.jpg',\n",
              "              'drive/MyDrive/assignment4_dataset/target/X/X701.jpg',\n",
              "              'drive/MyDrive/assignment4_dataset/target/X/X301.jpg',\n",
              "              'drive/MyDrive/assignment4_dataset/target/X/X2901.jpg',\n",
              "              'drive/MyDrive/assignment4_dataset/target/X/X2701.jpg',\n",
              "              'drive/MyDrive/assignment4_dataset/target/X/X901.jpg',\n",
              "              'drive/MyDrive/assignment4_dataset/target/X/X1501.jpg',\n",
              "              'drive/MyDrive/assignment4_dataset/target/X/X1601.jpg',\n",
              "              'drive/MyDrive/assignment4_dataset/target/X/X401.jpg',\n",
              "              'drive/MyDrive/assignment4_dataset/target/X/X2401.jpg',\n",
              "              'drive/MyDrive/assignment4_dataset/target/X/X2801.jpg',\n",
              "              'drive/MyDrive/assignment4_dataset/target/X/X601.jpg',\n",
              "              'drive/MyDrive/assignment4_dataset/target/X/X201.jpg',\n",
              "              'drive/MyDrive/assignment4_dataset/target/X/X1001.jpg',\n",
              "              'drive/MyDrive/assignment4_dataset/target/X/X1401.jpg',\n",
              "              'drive/MyDrive/assignment4_dataset/target/X/X501.jpg',\n",
              "              'drive/MyDrive/assignment4_dataset/target/X/X1901.jpg',\n",
              "              'drive/MyDrive/assignment4_dataset/target/X/X1101.jpg',\n",
              "              'drive/MyDrive/assignment4_dataset/target/X/X1.jpg',\n",
              "              'drive/MyDrive/assignment4_dataset/target/X/X2601.jpg',\n",
              "              'drive/MyDrive/assignment4_dataset/target/X/X1701.jpg',\n",
              "              'drive/MyDrive/assignment4_dataset/target/X/X1801.jpg',\n",
              "              'drive/MyDrive/assignment4_dataset/target/X/X2001.jpg',\n",
              "              'drive/MyDrive/assignment4_dataset/target/X/X1301.jpg'],\n",
              "             'Y': ['drive/MyDrive/assignment4_dataset/target/Y/Y2901.jpg',\n",
              "              'drive/MyDrive/assignment4_dataset/target/Y/Y1501.jpg',\n",
              "              'drive/MyDrive/assignment4_dataset/target/Y/Y301.jpg',\n",
              "              'drive/MyDrive/assignment4_dataset/target/Y/Y1801.jpg',\n",
              "              'drive/MyDrive/assignment4_dataset/target/Y/Y1601.jpg',\n",
              "              'drive/MyDrive/assignment4_dataset/target/Y/Y101.jpg',\n",
              "              'drive/MyDrive/assignment4_dataset/target/Y/Y1901.jpg',\n",
              "              'drive/MyDrive/assignment4_dataset/target/Y/Y701.jpg',\n",
              "              'drive/MyDrive/assignment4_dataset/target/Y/Y2601.jpg',\n",
              "              'drive/MyDrive/assignment4_dataset/target/Y/Y1701.jpg',\n",
              "              'drive/MyDrive/assignment4_dataset/target/Y/Y2301.jpg',\n",
              "              'drive/MyDrive/assignment4_dataset/target/Y/Y201.jpg',\n",
              "              'drive/MyDrive/assignment4_dataset/target/Y/Y1.jpg',\n",
              "              'drive/MyDrive/assignment4_dataset/target/Y/Y501.jpg',\n",
              "              'drive/MyDrive/assignment4_dataset/target/Y/Y2201.jpg',\n",
              "              'drive/MyDrive/assignment4_dataset/target/Y/Y1001.jpg',\n",
              "              'drive/MyDrive/assignment4_dataset/target/Y/Y1301.jpg',\n",
              "              'drive/MyDrive/assignment4_dataset/target/Y/Y1401.jpg',\n",
              "              'drive/MyDrive/assignment4_dataset/target/Y/Y401.jpg',\n",
              "              'drive/MyDrive/assignment4_dataset/target/Y/Y1101.jpg',\n",
              "              'drive/MyDrive/assignment4_dataset/target/Y/Y2001.jpg',\n",
              "              'drive/MyDrive/assignment4_dataset/target/Y/Y2401.jpg',\n",
              "              'drive/MyDrive/assignment4_dataset/target/Y/Y2501.jpg',\n",
              "              'drive/MyDrive/assignment4_dataset/target/Y/Y901.jpg',\n",
              "              'drive/MyDrive/assignment4_dataset/target/Y/Y601.jpg',\n",
              "              'drive/MyDrive/assignment4_dataset/target/Y/Y801.jpg',\n",
              "              'drive/MyDrive/assignment4_dataset/target/Y/Y2701.jpg',\n",
              "              'drive/MyDrive/assignment4_dataset/target/Y/Y2801.jpg',\n",
              "              'drive/MyDrive/assignment4_dataset/target/Y/Y2101.jpg',\n",
              "              'drive/MyDrive/assignment4_dataset/target/Y/Y1201.jpg'],\n",
              "             'Z': ['drive/MyDrive/assignment4_dataset/target/Z/Z101.jpg',\n",
              "              'drive/MyDrive/assignment4_dataset/target/Z/Z701.jpg',\n",
              "              'drive/MyDrive/assignment4_dataset/target/Z/Z1501.jpg',\n",
              "              'drive/MyDrive/assignment4_dataset/target/Z/Z1001.jpg',\n",
              "              'drive/MyDrive/assignment4_dataset/target/Z/Z2601.jpg',\n",
              "              'drive/MyDrive/assignment4_dataset/target/Z/Z401.jpg',\n",
              "              'drive/MyDrive/assignment4_dataset/target/Z/Z1101.jpg',\n",
              "              'drive/MyDrive/assignment4_dataset/target/Z/Z501.jpg',\n",
              "              'drive/MyDrive/assignment4_dataset/target/Z/Z1901.jpg',\n",
              "              'drive/MyDrive/assignment4_dataset/target/Z/Z2001.jpg',\n",
              "              'drive/MyDrive/assignment4_dataset/target/Z/Z2701.jpg',\n",
              "              'drive/MyDrive/assignment4_dataset/target/Z/Z1801.jpg',\n",
              "              'drive/MyDrive/assignment4_dataset/target/Z/Z2201.jpg',\n",
              "              'drive/MyDrive/assignment4_dataset/target/Z/Z601.jpg',\n",
              "              'drive/MyDrive/assignment4_dataset/target/Z/Z2501.jpg',\n",
              "              'drive/MyDrive/assignment4_dataset/target/Z/Z2801.jpg',\n",
              "              'drive/MyDrive/assignment4_dataset/target/Z/Z1.jpg',\n",
              "              'drive/MyDrive/assignment4_dataset/target/Z/Z801.jpg',\n",
              "              'drive/MyDrive/assignment4_dataset/target/Z/Z2301.jpg',\n",
              "              'drive/MyDrive/assignment4_dataset/target/Z/Z2401.jpg',\n",
              "              'drive/MyDrive/assignment4_dataset/target/Z/Z1401.jpg',\n",
              "              'drive/MyDrive/assignment4_dataset/target/Z/Z1201.jpg',\n",
              "              'drive/MyDrive/assignment4_dataset/target/Z/Z901.jpg',\n",
              "              'drive/MyDrive/assignment4_dataset/target/Z/Z301.jpg',\n",
              "              'drive/MyDrive/assignment4_dataset/target/Z/Z1601.jpg',\n",
              "              'drive/MyDrive/assignment4_dataset/target/Z/Z1301.jpg',\n",
              "              'drive/MyDrive/assignment4_dataset/target/Z/Z2901.jpg',\n",
              "              'drive/MyDrive/assignment4_dataset/target/Z/Z201.jpg',\n",
              "              'drive/MyDrive/assignment4_dataset/target/Z/Z2101.jpg',\n",
              "              'drive/MyDrive/assignment4_dataset/target/Z/Z1701.jpg']})"
            ]
          },
          "metadata": {},
          "execution_count": 19
        }
      ]
    },
    {
      "cell_type": "code",
      "source": [
        "def get_templates(template_path):\n",
        "  '''\n",
        "  Retrieves references of template images\n",
        "  Returns:\n",
        "    paths all of the images\n",
        "  '''\n",
        "\n",
        "  templates = defaultdict(str)\n",
        "  image_file = os.listdir(template_path)\n",
        "\n",
        "  for i in range(len(alphabet)):\n",
        "    img_path = template_path + '/' + image_file[i]\n",
        "    templates[alphabet[i]] = img_path\n",
        "\n",
        "  return templates  "
      ],
      "metadata": {
        "id": "pmPYF-aL52PW"
      },
      "execution_count": 20,
      "outputs": []
    },
    {
      "cell_type": "code",
      "source": [
        "template_path = 'drive/MyDrive/assignment4_dataset/template'\n",
        "templates = get_templates(template_path)\n",
        "templates"
      ],
      "metadata": {
        "colab": {
          "base_uri": "https://localhost:8080/"
        },
        "id": "2avtsCDWCBoF",
        "outputId": "63f1e11f-1626-4335-fe51-6a03498a55e2"
      },
      "execution_count": 21,
      "outputs": [
        {
          "output_type": "execute_result",
          "data": {
            "text/plain": [
              "defaultdict(str,\n",
              "            {'A': 'drive/MyDrive/assignment4_dataset/template/A.png',\n",
              "             'B': 'drive/MyDrive/assignment4_dataset/template/B.png',\n",
              "             'C': 'drive/MyDrive/assignment4_dataset/template/C.png',\n",
              "             'D': 'drive/MyDrive/assignment4_dataset/template/D.png',\n",
              "             'E': 'drive/MyDrive/assignment4_dataset/template/E.png',\n",
              "             'F': 'drive/MyDrive/assignment4_dataset/template/F.png',\n",
              "             'G': 'drive/MyDrive/assignment4_dataset/template/G.png',\n",
              "             'H': 'drive/MyDrive/assignment4_dataset/template/H.png',\n",
              "             'I': 'drive/MyDrive/assignment4_dataset/template/I.png',\n",
              "             'J': 'drive/MyDrive/assignment4_dataset/template/J.png',\n",
              "             'K': 'drive/MyDrive/assignment4_dataset/template/K.png',\n",
              "             'L': 'drive/MyDrive/assignment4_dataset/template/L.png',\n",
              "             'M': 'drive/MyDrive/assignment4_dataset/template/M.png',\n",
              "             'N': 'drive/MyDrive/assignment4_dataset/template/N.png',\n",
              "             'O': 'drive/MyDrive/assignment4_dataset/template/O.png',\n",
              "             'P': 'drive/MyDrive/assignment4_dataset/template/P.png',\n",
              "             'Q': 'drive/MyDrive/assignment4_dataset/template/Q.png',\n",
              "             'R': 'drive/MyDrive/assignment4_dataset/template/R.png',\n",
              "             'S': 'drive/MyDrive/assignment4_dataset/template/S.png',\n",
              "             'T': 'drive/MyDrive/assignment4_dataset/template/T.png',\n",
              "             'U': 'drive/MyDrive/assignment4_dataset/template/U.png',\n",
              "             'V': 'drive/MyDrive/assignment4_dataset/template/V.png',\n",
              "             'W': 'drive/MyDrive/assignment4_dataset/template/W.png',\n",
              "             'X': 'drive/MyDrive/assignment4_dataset/template/X.png',\n",
              "             'Y': 'drive/MyDrive/assignment4_dataset/template/Y.png',\n",
              "             'Z': 'drive/MyDrive/assignment4_dataset/template/Z.png'})"
            ]
          },
          "metadata": {},
          "execution_count": 21
        }
      ]
    },
    {
      "cell_type": "code",
      "source": [
        "def classify(templates, samples):\n",
        "  \"\"\"\n",
        "  Getting all samples and templates then\n",
        "  Comparing all samples with templates \n",
        "  Predicting a label according to the matching score\n",
        "  Return list of tuples as labels, score and image location\n",
        "  \"\"\"\n",
        "  alphabet = list(string.ascii_uppercase)\n",
        "\n",
        "  result = set()\n",
        "\n",
        "  for letter in alphabet:\n",
        "\n",
        "    images = samples[letter]\n",
        "\n",
        "    for image in images:\n",
        "      \n",
        "      img = cv2.imread(image, cv2.IMREAD_GRAYSCALE)\n",
        "      score = 0\n",
        "      actual_label = letter\n",
        "      predicted_label = ''\n",
        "\n",
        "      for kt, template in templates.items():\n",
        "\n",
        "        temp = cv2.imread(template, cv2.IMREAD_GRAYSCALE)\n",
        "\n",
        "        in_score = template_matching(temp, img)[0]\n",
        "\n",
        "        if in_score > score:\n",
        "          score = in_score\n",
        "          predicted_label = kt\n",
        "\n",
        "      res = (actual_label, predicted_label, score, image)\n",
        "      result.add(res)\n",
        "\n",
        "  return result"
      ],
      "metadata": {
        "id": "p-GA6F9a5Uze"
      },
      "execution_count": 22,
      "outputs": []
    },
    {
      "cell_type": "code",
      "source": [
        "results = classify(templates, samples)"
      ],
      "metadata": {
        "id": "8gBfE24VKNSv"
      },
      "execution_count": 23,
      "outputs": []
    },
    {
      "cell_type": "code",
      "source": [
        "cnt = 0\n",
        "for res in results:\n",
        "\n",
        "  if res[0] == res[1]:\n",
        "    cnt+=1\n",
        "\n",
        "print(cnt/len(results))"
      ],
      "metadata": {
        "id": "g7pd4rX4KdfQ"
      },
      "execution_count": null,
      "outputs": []
    },
    {
      "cell_type": "code",
      "source": [
        "import pandas as pd"
      ],
      "metadata": {
        "id": "B0ApJ-FkeEeL"
      },
      "execution_count": null,
      "outputs": []
    },
    {
      "cell_type": "code",
      "source": [
        "df = pd.DataFrame(results, columns=['actual_label', 'predicted_label', 'score', 'image'])"
      ],
      "metadata": {
        "id": "mw-cwE9cySMo"
      },
      "execution_count": null,
      "outputs": []
    },
    {
      "cell_type": "code",
      "source": [
        "df.head()"
      ],
      "metadata": {
        "id": "EiVpGkm3yfYz"
      },
      "execution_count": null,
      "outputs": []
    },
    {
      "cell_type": "code",
      "source": [
        "most_correlated_pairs = df.sort_values(by=['score'], ascending = False).head()"
      ],
      "metadata": {
        "id": "4VR0DGBYygrM"
      },
      "execution_count": null,
      "outputs": []
    },
    {
      "cell_type": "code",
      "source": [
        "most_correlated_pairs"
      ],
      "metadata": {
        "id": "wJBk8Ee6zj6H"
      },
      "execution_count": null,
      "outputs": []
    },
    {
      "cell_type": "code",
      "source": [
        "for _, row in most_correlated_pairs.iterrows():\n",
        "  temp_path = templates[row['predicted_label']]\n",
        "  temp = cv2.imread(temp_path, cv2.IMREAD_GRAYSCALE)\n",
        "  img = cv2.imread(row['image'], cv2.IMREAD_GRAYSCALE)\n",
        "  s, x, y = template_matching(temp, img)\n",
        "  height, width = temp.shape\n",
        "  img = img[y:y+height, x:x+width]\n",
        "\n",
        "\n",
        "  merged = np.hstack([temp, img])\n",
        "  cv2_imshow(merged)\n"
      ],
      "metadata": {
        "id": "vHic7gBX3-6Q"
      },
      "execution_count": null,
      "outputs": []
    },
    {
      "cell_type": "code",
      "source": [
        "sample_for_hog = cv2.imread('drive/MyDrive/assignment4_dataset/target/Z/Z901.jpg', cv2.IMREAD_GRAYSCALE)\n",
        "sample_for_hog = cv2.medianBlur(sample_for_hog, 5)\n",
        "hog = cv2.HOGDescriptor()\n",
        "th3 = cv2.adaptiveThreshold(sample_for_hog, 255, cv2.ADAPTIVE_THRESH_GAUSSIAN_C, cv2.THRESH_BINARY, 11, 2)\n",
        "th3 = hog.compute(th3)\n",
        "th3"
      ],
      "metadata": {
        "colab": {
          "base_uri": "https://localhost:8080/"
        },
        "id": "ZGnvEXTji-fV",
        "outputId": "1c9d8311-c375-4bc0-9111-608be1d1b239"
      },
      "execution_count": 26,
      "outputs": [
        {
          "output_type": "execute_result",
          "data": {
            "text/plain": [
              "array([0.16854724, 0.06616786, 0.19799924, ..., 0.        , 0.        ,\n",
              "       0.36980498], dtype=float32)"
            ]
          },
          "metadata": {},
          "execution_count": 26
        }
      ]
    },
    {
      "cell_type": "markdown",
      "source": [
        "TRYING HOG BEFORE APPLY ENTIRE DATASET"
      ],
      "metadata": {
        "id": "3ovW0eUmLDV5"
      }
    },
    {
      "cell_type": "code",
      "source": [
        "hog = cv2.HOGDescriptor()\n",
        "\n",
        "imx = cv2.imread('drive/MyDrive/assignment4_dataset/target/U/U2701.jpg', cv2.IMREAD_GRAYSCALE)\n",
        "imx = cv2.medianBlur(imx, 5)\n",
        "imx = cv2.adaptiveThreshold(imx, 255, cv2.ADAPTIVE_THRESH_GAUSSIAN_C, cv2.THRESH_BINARY, 11, 2)\n",
        "imx = hog.compute(imx)\n",
        "\n",
        "\n",
        "imy = cv2.imread('drive/MyDrive/assignment4_dataset/target/W/W1001.jpg', cv2.IMREAD_GRAYSCALE)\n",
        "imy = cv2.medianBlur(imy, 5)\n",
        "imy = cv2.adaptiveThreshold(imy, 255, cv2.ADAPTIVE_THRESH_GAUSSIAN_C, cv2.THRESH_BINARY, 11, 2)\n",
        "imy = hog.compute(imy)\n",
        "\n",
        "\n",
        "imz = cv2.imread('drive/MyDrive/assignment4_dataset/target/Z/Z801.jpg', cv2.IMREAD_GRAYSCALE)\n",
        "imz = cv2.medianBlur(imz, 5)\n",
        "imz = cv2.adaptiveThreshold(imz, 255, cv2.ADAPTIVE_THRESH_GAUSSIAN_C, cv2.THRESH_BINARY, 11, 2)\n",
        "imz = hog.compute(imz)\n",
        "\n",
        "\n",
        "print(np.linalg.norm(imx - th3))\n",
        "print(np.linalg.norm(imy - th3))\n",
        "print(np.linalg.norm(imz - th3))"
      ],
      "metadata": {
        "colab": {
          "base_uri": "https://localhost:8080/"
        },
        "id": "RZ-2TIUDo7Nz",
        "outputId": "a8cdb4c8-3191-4911-dadc-ac59e25c8c5b"
      },
      "execution_count": 27,
      "outputs": [
        {
          "output_type": "stream",
          "name": "stdout",
          "text": [
            "114.54516\n",
            "122.69106\n",
            "112.00061\n"
          ]
        }
      ]
    },
    {
      "cell_type": "code",
      "source": [
        "def template_matching_with_hog(template, sample):\n",
        "  \"\"\"\n",
        "  Comparing two images using euclidian distances on hog vectors\n",
        "  \"\"\"\n",
        "  hog = cv2.HOGDescriptor()\n",
        "\n",
        "  height, width = template.shape\n",
        "  sample_height, sample_width = sample.shape\n",
        "  \n",
        "  t = hog.compute(template)\n",
        "\n",
        "  min_val = float('inf')\n",
        "  for y in range(54):\n",
        "    for x in range(14):\n",
        "\n",
        "      temporary = sample[y: y + height, x : x + width]\n",
        "      s = hog.compute(temporary)\n",
        "      scr = np.linalg.norm(t - s)\n",
        "\n",
        "\n",
        "      if scr < min_val:\n",
        "        min_val = scr\n",
        "  \n",
        "  return round(min_val, 3)"
      ],
      "metadata": {
        "id": "WWV4x-lNoEWw"
      },
      "execution_count": 28,
      "outputs": []
    },
    {
      "cell_type": "code",
      "source": [
        "def hog_classify(templates, samples):\n",
        "  \"\"\"\n",
        "  Compare all the samples to the alphabet templates to find best match\n",
        "  \"\"\"\n",
        "\n",
        "  alphabet = list(string.ascii_uppercase)\n",
        "  result = set()\n",
        "\n",
        "\n",
        "  for letter in alphabet:\n",
        "\n",
        "    for image in samples[letter]:\n",
        "      \n",
        "      img = cv2.imread(image, cv2.IMREAD_GRAYSCALE)\n",
        "      img = cv2.medianBlur(img, 5)\n",
        "      img = cv2.adaptiveThreshold(img, 255, cv2.ADAPTIVE_THRESH_GAUSSIAN_C, cv2.THRESH_BINARY, 11, 2)\n",
        "    \n",
        "\n",
        "      score = float('inf')\n",
        "\n",
        "      actual_label = letter\n",
        "      predicted_label = ''\n",
        "\n",
        "      for kt, template in templates.items():\n",
        "\n",
        "        template = cv2.imread(template, cv2.IMREAD_GRAYSCALE)\n",
        "        template = cv2.medianBlur(template, 5)\n",
        "        template = cv2.adaptiveThreshold(template, 255, cv2.ADAPTIVE_THRESH_GAUSSIAN_C, cv2.THRESH_BINARY, 11, 2)\n",
        "\n",
        "        in_score = template_matching_with_hog(template, img)\n",
        "        \n",
        "        if in_score < score:\n",
        "          score = in_score\n",
        "          predicted_label = kt\n",
        "\n",
        "      res = (actual_label, predicted_label, score, image)\n",
        "      print(res)\n",
        "      result.add(res)\n",
        "\n",
        "  return result"
      ],
      "metadata": {
        "id": "1yGoLP3wlHQ9"
      },
      "execution_count": 29,
      "outputs": []
    },
    {
      "cell_type": "code",
      "source": [
        "hog_results = hog_classify(templates, samples)"
      ],
      "metadata": {
        "id": "ws_XQCA0nmEj"
      },
      "execution_count": null,
      "outputs": []
    },
    {
      "cell_type": "code",
      "source": [
        "cnt = 0\n",
        "for res in hog_results:\n",
        "\n",
        "  if res[0] == res[1]:\n",
        "    cnt+=1\n",
        "\n",
        "print(cnt/len(hog_results))"
      ],
      "metadata": {
        "id": "hnu2NREUGzmj"
      },
      "execution_count": null,
      "outputs": []
    },
    {
      "cell_type": "code",
      "source": [
        "from skimage.io import imread\n",
        "from skimage.transform import resize\n",
        "from skimage.feature import hog\n",
        "from skimage import exposure\n",
        "import matplotlib.pyplot as plt"
      ],
      "metadata": {
        "id": "p2aWR2MAPors"
      },
      "execution_count": 31,
      "outputs": []
    },
    {
      "cell_type": "code",
      "source": [
        "def hog_img(img):\n",
        "  fd, hog_image = hog(img, orientations=9, pixels_per_cell=(8, 8),\n",
        "                \tcells_per_block=(2, 2), visualize=True)\n",
        "  return hog_image"
      ],
      "metadata": {
        "id": "9dE-xuDnREOy"
      },
      "execution_count": 66,
      "outputs": []
    },
    {
      "cell_type": "code",
      "source": [
        "def hog_with_cc(samples, templates):\n",
        "\n",
        "  for ks, sample in samples.items():\n",
        "\n",
        "    true_predicted = 0\n",
        "\n",
        "    for smp in sample:\n",
        "\n",
        "      img = cv2.imread(smp)\n",
        "      img = cv2.resize(img, (32, 32))\n",
        "      hogimg = hog_img(img)\n",
        "      actual_label = ks\n",
        "      predicted_label = ''\n",
        "\n",
        "      score = 0\n",
        "\n",
        "      for key, val in templates.items():\n",
        "        tmp = cv2.imread(val, cv2.IMREAD_GRAYSCALE)\n",
        "        tmp = cv2.resize(tmp, (32, 32))\n",
        "        hogtmp = hog_img(tmp)\n",
        "\n",
        "        scr = normalised_cross_correlation(hogimg, hogtmp)\n",
        "        if scr > score:\n",
        "          score = scr\n",
        "          predicted_label = key\n",
        "\n",
        "      if predicted_label == actual_label:\n",
        "        true_predicted += 1\n",
        "\n",
        "      print('x', end=' ')\n",
        "\n",
        "    print(f\"{ks} harfi için accuracy = {round(true_predicted / len(sample), 3)}\")"
      ],
      "metadata": {
        "id": "cKiC2P2TRufE"
      },
      "execution_count": 87,
      "outputs": []
    },
    {
      "cell_type": "code",
      "source": [
        "hog_with_cc(samples, templates)"
      ],
      "metadata": {
        "colab": {
          "base_uri": "https://localhost:8080/"
        },
        "id": "OA_7d7sXR1A2",
        "outputId": "8abe7be6-4ea9-4db4-af49-8559a6c44d90"
      },
      "execution_count": 88,
      "outputs": [
        {
          "output_type": "stream",
          "name": "stdout",
          "text": [
            "x x x x x x x x x x x x x x x x x x x x x x x x x x x x x x A harfi için accuracy = 0.0\n",
            "x x x x x x x x x x x x x x x x x x x x x x x x x x x x x x B harfi için accuracy = 0.0\n",
            "x x x x x x x x x x x x x x x x x x x x x x x x x x x x x x C harfi için accuracy = 0.033\n",
            "x x x x x x x x x x x x x x x x x x x x x x x x x x x x x x D harfi için accuracy = 0.0\n",
            "x x x x x x x x x x x x x x x x x x x x x x x x x x x x x x E harfi için accuracy = 0.0\n",
            "x x x x x x x x x x x x x x x x x x x x x x x x x x x x x x F harfi için accuracy = 0.133\n",
            "x x x x x x x x x x x x x x x x x x x x x x x x x x x x x x G harfi için accuracy = 0.0\n",
            "x x x x x x x x x x x x x x x x x x x x x x x x x x x x x x H harfi için accuracy = 0.3\n",
            "x x x x x x x x x x x x x x x x x x x x x x x x x x x x x x I harfi için accuracy = 0.0\n",
            "x x x x x x x x x x x x x x x x x x x x x x x x x x x x x x J harfi için accuracy = 0.267\n",
            "x x x x x x x x x x x x x x x x x x x x x x x x x x x x x x K harfi için accuracy = 0.0\n",
            "x x x x x x x x x x x x x x x x x x x x x x x x x x x x x x L harfi için accuracy = 0.0\n",
            "x x x x x x x x x x x x x x x x x x x x x x x x x x x x x x M harfi için accuracy = 0.0\n",
            "x x x x x x x x x x x x x x x x x x x x x x x x x x x x x x N harfi için accuracy = 0.0\n",
            "x x x x x x x x x x x x x x x x x x x x x x x x x x x x x x O harfi için accuracy = 0.0\n",
            "x x x x x x x x x x x x x x x x x x x x x x x x x x x x x x P harfi için accuracy = 0.333\n",
            "x x x x x x x x x x x x x x x x x x x x x x x x x x x x x x Q harfi için accuracy = 0.9\n",
            "x x x x x x x x x x x x x x x x x x x x x x x x x x x x x x R harfi için accuracy = 0.0\n",
            "x x x x x x x x x x x x x x x x x x x x x x x x x x x x x x S harfi için accuracy = 0.1\n",
            "x x x x x x x x x x x x x x x x x x x x x x x x x x x x x x T harfi için accuracy = 0.0\n",
            "x x x x x x x x x x x x x x x x x x x x x x x x x x x x x x U harfi için accuracy = 0.0\n",
            "x x x x x x x x x x x x x x x x x x x x x x x x x x x x x x V harfi için accuracy = 0.067\n",
            "x x x x x x x x x x x x x x x x x x x x x x x x x x x x x x W harfi için accuracy = 0.133\n",
            "x x x x x x x x x x x x x x x x x x x x x x x x x x x x x x X harfi için accuracy = 0.0\n",
            "x x x x x x x x x x x x x x x x x x x x x x x x x x x x x x Y harfi için accuracy = 0.067\n",
            "x x x x x x x x x x x x x x x x x x x x x x x x x x x x x x Z harfi için accuracy = 0.033\n"
          ]
        }
      ]
    },
    {
      "cell_type": "code",
      "source": [
        "mclwh = ['drive/MyDrive/assignment4_dataset/template/H.png',\n",
        "         'drive/MyDrive/assignment4_dataset/template/P.png',\n",
        "         'drive/MyDrive/assignment4_dataset/template/Q.png',]"
      ],
      "metadata": {
        "id": "sWwrOBi5X3-E"
      },
      "execution_count": 89,
      "outputs": []
    },
    {
      "cell_type": "code",
      "source": [
        "for t in mclwh:\n",
        "  img = cv2.imread(t, cv2.IMREAD_GRAYSCALE)\n",
        "\n",
        "  fd, hog_image = hog(img, orientations=9, pixels_per_cell=(8, 8),\n",
        "                \tcells_per_block=(2, 2), visualize=True)\n",
        "\n",
        "  plt.imshow(hog_image, cmap=\"gray\")\n",
        "  plt.show()"
      ],
      "metadata": {
        "colab": {
          "base_uri": "https://localhost:8080/",
          "height": 773
        },
        "id": "Q8PYhCZfewHZ",
        "outputId": "851b33dd-d73e-4654-c8db-022f0fb21b7d"
      },
      "execution_count": 90,
      "outputs": [
        {
          "output_type": "display_data",
          "data": {
            "text/plain": [
              "<Figure size 432x288 with 1 Axes>"
            ],
            "image/png": "[encoded data removed]"
          },
          "metadata": {
            "needs_background": "light"
          }
        },
        {
          "output_type": "display_data",
          "data": {
            "text/plain": [
              "<Figure size 432x288 with 1 Axes>"
            ],
            "image/png": "[encoded data removed]"
          },
          "metadata": {
            "needs_background": "light"
          }
        },
        {
          "output_type": "display_data",
          "data": {
            "text/plain": [
              "<Figure size 432x288 with 1 Axes>"
            ],
            "image/png": "[encoded data removed]"
          },
          "metadata": {
            "needs_background": "light"
          }
        }
      ]
    },
    {
      "cell_type": "code",
      "source": [],
      "metadata": {
        "id": "l3UfiJ6NfBjL"
      },
      "execution_count": null,
      "outputs": []
    }
  ]
}